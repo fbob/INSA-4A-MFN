{
 "cells": [
  {
   "cell_type": "markdown",
   "metadata": {
    "ein.tags": [
     "worksheet-0"
    ]
   },
   "source": [
    "# Vos premiers pas en Python\n",
    "## Ou petit guide de survie ..."
   ]
  },
  {
   "cell_type": "markdown",
   "metadata": {
    "ein.tags": [
     "worksheet-0"
    ]
   },
   "source": [
    "> Un algorithme manipule des données (souvent numériques en calcul scientifique). Ces données ne sont pas connues au moment où on écrit l'algorithme. Les variables servent donc à nommer ces données afin de pouvoir écrire cet algorithme et les stocker en mémoire. \n",
    "\n",
    "La procédure de calcul s'articule souvent autour des étapes suivantes:\n",
    "\n",
    "* On écrit l'algorithme.\n",
    "* On affecte des valeurs aux variables.\n",
    "* On exécute l'algorithme de calcul pour obtenir la solution."
   ]
  },
  {
   "cell_type": "markdown",
   "metadata": {},
   "source": [
    "# Les modules\n",
    "\n",
    "Les modules sont des extensions du langages comme les \"Toolboxes\" de Matlab. Python ne sait pas faire grand chose tout seul mais il bénéficie de nombreuses extensions disponibles sous la forme de ces modules. On distingue souvent les extensions présentes lors de l'installation du langage (comme par exemple le module [math](https://docs.python.org/3.4/library/math.html)) ou des extensions tierces qu'il faut installer (comme par exemple l'excellent [numpy](http://www.numpy.org/)).\n",
    "\n",
    "Pour utiliser une fonctionalité ou fonction d'un module, on utilise l'une des syntaxes suivantes :"
   ]
  },
  {
   "cell_type": "code",
   "execution_count": 57,
   "metadata": {
    "jupyter": {
     "outputs_hidden": false
    }
   },
   "outputs": [
    {
     "name": "stdout",
     "output_type": "stream",
     "text": [
      "0.540302305868\n",
      "-0.416146836547\n",
      "-0.9899924966\n"
     ]
    }
   ],
   "source": [
    "import math\n",
    "\n",
    "print (math.cos(1))\n",
    "\n",
    "from math import cos\n",
    "print (cos(2))\n",
    "\n",
    "from math import * # cette syntaxe est déconseillée car il est possible qu'une fonction\n",
    "print (cos(3))     # porte le même nom qu'une des vôtres"
   ]
  },
  {
   "cell_type": "markdown",
   "metadata": {},
   "source": [
    "# Les variables"
   ]
  },
  {
   "cell_type": "code",
   "execution_count": 58,
   "metadata": {
    "jupyter": {
     "outputs_hidden": false
    }
   },
   "outputs": [
    {
     "name": "stdout",
     "output_type": "stream",
     "text": [
      "(3, 3.3, 'exemple', None)\n"
     ]
    }
   ],
   "source": [
    "i = 3                    # entier = type numérique (type int)\n",
    "r = 3.3                  # réel   = type numérique (type float)\n",
    "s = \"exemple\"            # chaîne de caractères = type str (exemple n'est pas une variable)\n",
    "n = None                 # None signifie que la variable existe mais qu'elle ne contient rien\n",
    "                         # elle est souvent utilisée pour signifier qu'il n'y a pas de résultat\n",
    "                         # car... une erreur s'est produite, il n'y a pas de résultat\n",
    "                         # (racine carrée de -1 par exemple)\n",
    "            \n",
    "print(i,r,s,n)           # avec les notebooks, le dernier print n'est pas nécessaire, il suffit d'écrire\n",
    "                         # i,r,s,n"
   ]
  },
  {
   "cell_type": "markdown",
   "metadata": {},
   "source": [
    "# Affectations"
   ]
  },
  {
   "cell_type": "code",
   "execution_count": 68,
   "metadata": {
    "jupyter": {
     "outputs_hidden": false
    }
   },
   "outputs": [
    {
     "name": "stdout",
     "output_type": "stream",
     "text": [
      "anything\n",
      "(5, 6)\n",
      "3\n",
      "7\n"
     ]
    }
   ],
   "source": [
    "v = \"anything\"       # affectation\n",
    "print ( v )          # affichage\n",
    "\n",
    "v1, v2 = 5, 6        # double affectation\n",
    "print(v1,v2)\n",
    "\n",
    "x = 2\n",
    "y = x + 1\n",
    "print (y)\n",
    "\n",
    "x += 5 \n",
    "print (x)"
   ]
  },
  {
   "cell_type": "markdown",
   "metadata": {},
   "source": [
    "# Mise en forme de l'affichage (`sortie`) avec `print`"
   ]
  },
  {
   "cell_type": "code",
   "execution_count": 69,
   "metadata": {
    "jupyter": {
     "outputs_hidden": false
    }
   },
   "outputs": [
    {
     "name": "stdout",
     "output_type": "stream",
     "text": [
      "addition de 4 et 5 donne : 4 + 5 = 9\n"
     ]
    }
   ],
   "source": [
    "x = 4\n",
    "y = 5 \n",
    "s = \"addition\"\n",
    "print ( \"{3} de {0} et {1} donne : {0} + {1} = {2}\".format(x,y,x+y,s) )"
   ]
  },
  {
   "cell_type": "markdown",
   "metadata": {},
   "source": [
    "# Opérations arithmétiques"
   ]
  },
  {
   "cell_type": "code",
   "execution_count": 70,
   "metadata": {
    "autoscroll": "json-false",
    "ein.tags": [
     "worksheet-0"
    ],
    "jupyter": {
     "outputs_hidden": false
    }
   },
   "outputs": [
    {
     "name": "stdout",
     "output_type": "stream",
     "text": [
      "9765625\n",
      "0.5\n",
      "0.00036\n"
     ]
    }
   ],
   "source": [
    "x = 5\n",
    "y = 10\n",
    "\n",
    "z = x ** y\n",
    "print (z)    # affiche z\n",
    "\n",
    "z2 = 5.0/10\n",
    "print(z2)\n",
    "\n",
    "z3 = (1+z2**3)/(sqrt(z))\n",
    "print(z3)"
   ]
  },
  {
   "cell_type": "markdown",
   "metadata": {},
   "source": [
    "# Les boucles"
   ]
  },
  {
   "cell_type": "markdown",
   "metadata": {},
   "source": [
    "Les boucles permettent de répéter un nombre fini ou infini de fois les mêmes instructions. "
   ]
  },
  {
   "cell_type": "markdown",
   "metadata": {},
   "source": [
    "** Boucle `for` **"
   ]
  },
  {
   "cell_type": "code",
   "execution_count": 71,
   "metadata": {
    "autoscroll": "json-false",
    "ein.tags": [
     "worksheet-0"
    ],
    "jupyter": {
     "outputs_hidden": false
    }
   },
   "outputs": [
    {
     "name": "stdout",
     "output_type": "stream",
     "text": [
      "('La valeur initiale de a est: ', 0)\n",
      "('On ajoute ', 10)\n",
      "('On ajoute ', 1)\n",
      "('On ajoute ', 4)\n",
      "('La valeur finale de a est: ', 15)\n"
     ]
    }
   ],
   "source": [
    "a = 0\n",
    "print (\"La valeur initiale de a est: \", a) \n",
    "\n",
    "for i in [10, 1, 4]:\n",
    "    a = a + i\n",
    "    print(\"On ajoute \", i) # répète cette ligne\n",
    "print (\"La valeur finale de a est: \", a)   "
   ]
  },
  {
   "cell_type": "code",
   "execution_count": 72,
   "metadata": {
    "jupyter": {
     "outputs_hidden": false
    }
   },
   "outputs": [
    {
     "name": "stdout",
     "output_type": "stream",
     "text": [
      "('Dans la boucle', 0)\n",
      "('Dans la boucle', 1)\n",
      "('Dans la boucle', 2)\n",
      "('Dans la boucle', 3)\n",
      "('Dans la boucle', 4)\n",
      "('Dans la boucle', 5)\n",
      "('Dans la boucle', 6)\n",
      "('Dans la boucle', 7)\n",
      "('Dans la boucle', 8)\n",
      "('Dans la boucle', 9)\n",
      "('En dehors de la boucle', 9)\n"
     ]
    }
   ],
   "source": [
    "for i in range(0, 10) :   # on répète 10 fois\n",
    "    print (\"Dans la boucle\",i)     # l'affichage de i\n",
    "    # ici, on est dans la boucle\n",
    "\n",
    "# ici, on n'est plus dans la boucle\n",
    "print(\"En dehors de la boucle\",i)          # on ne passe par à 10"
   ]
  },
  {
   "cell_type": "markdown",
   "metadata": {},
   "source": [
    "**Boucle while :**"
   ]
  },
  {
   "cell_type": "code",
   "execution_count": 73,
   "metadata": {
    "jupyter": {
     "outputs_hidden": false
    }
   },
   "outputs": [
    {
     "name": "stdout",
     "output_type": "stream",
     "text": [
      "0\n",
      "1\n",
      "2\n",
      "3\n",
      "4\n",
      "5\n",
      "6\n",
      "7\n",
      "8\n",
      "9\n"
     ]
    }
   ],
   "source": [
    "i = 0\n",
    "while i < 10 :\n",
    "    print (i)\n",
    "    i = i +  1"
   ]
  },
  {
   "cell_type": "markdown",
   "metadata": {},
   "source": [
    "**Interrompre une boucle :**"
   ]
  },
  {
   "cell_type": "code",
   "execution_count": 74,
   "metadata": {
    "jupyter": {
     "outputs_hidden": false
    }
   },
   "outputs": [
    {
     "name": "stdout",
     "output_type": "stream",
     "text": [
      "0\n",
      "1\n",
      "3\n",
      "4\n",
      "5\n",
      "6\n"
     ]
    }
   ],
   "source": [
    "for i in range (0, 10) : \n",
    "    if i == 2 :\n",
    "        continue           # on passe directement au suivant\n",
    "    print (i)            \n",
    "    if i > 5 :\n",
    "        break              # interruption définitive"
   ]
  },
  {
   "cell_type": "markdown",
   "metadata": {
    "ein.tags": [
     "worksheet-0"
    ]
   },
   "source": [
    "# Les tests conditionnels\n",
    "Les tests permettent de faire un choix : selon la valeur d'une condition, on fait soit une séquence d'instructions soit une autre. \n",
    "\n",
    "## Variable de type *boolean*  `True` ou `False`"
   ]
  },
  {
   "cell_type": "code",
   "execution_count": 75,
   "metadata": {
    "jupyter": {
     "outputs_hidden": false
    }
   },
   "outputs": [
    {
     "data": {
      "text/plain": [
       "True"
      ]
     },
     "execution_count": 75,
     "metadata": {},
     "output_type": "execute_result"
    }
   ],
   "source": [
    "2 == 2"
   ]
  },
  {
   "cell_type": "code",
   "execution_count": 76,
   "metadata": {
    "jupyter": {
     "outputs_hidden": false
    }
   },
   "outputs": [
    {
     "data": {
      "text/plain": [
       "True"
      ]
     },
     "execution_count": 76,
     "metadata": {},
     "output_type": "execute_result"
    }
   ],
   "source": [
    "50 == 2*25"
   ]
  },
  {
   "cell_type": "code",
   "execution_count": 77,
   "metadata": {
    "jupyter": {
     "outputs_hidden": false
    }
   },
   "outputs": [
    {
     "data": {
      "text/plain": [
       "True"
      ]
     },
     "execution_count": 77,
     "metadata": {},
     "output_type": "execute_result"
    }
   ],
   "source": [
    "3 < 3.14159"
   ]
  },
  {
   "cell_type": "code",
   "execution_count": 78,
   "metadata": {
    "jupyter": {
     "outputs_hidden": false
    }
   },
   "outputs": [
    {
     "data": {
      "text/plain": [
       "True"
      ]
     },
     "execution_count": 78,
     "metadata": {},
     "output_type": "execute_result"
    }
   ],
   "source": [
    "1 == 1.0"
   ]
  },
  {
   "cell_type": "code",
   "execution_count": 79,
   "metadata": {
    "jupyter": {
     "outputs_hidden": false
    }
   },
   "outputs": [
    {
     "data": {
      "text/plain": [
       "True"
      ]
     },
     "execution_count": 79,
     "metadata": {},
     "output_type": "execute_result"
    }
   ],
   "source": [
    "1 != 0"
   ]
  },
  {
   "cell_type": "code",
   "execution_count": 80,
   "metadata": {
    "jupyter": {
     "outputs_hidden": false
    }
   },
   "outputs": [
    {
     "data": {
      "text/plain": [
       "True"
      ]
     },
     "execution_count": 80,
     "metadata": {},
     "output_type": "execute_result"
    }
   ],
   "source": [
    "1 <= 2"
   ]
  },
  {
   "cell_type": "code",
   "execution_count": 81,
   "metadata": {
    "jupyter": {
     "outputs_hidden": false
    }
   },
   "outputs": [
    {
     "data": {
      "text/plain": [
       "True"
      ]
     },
     "execution_count": 81,
     "metadata": {},
     "output_type": "execute_result"
    }
   ],
   "source": [
    "1 >= 1"
   ]
  },
  {
   "cell_type": "markdown",
   "metadata": {},
   "source": [
    "## Le test `if`"
   ]
  },
  {
   "cell_type": "code",
   "execution_count": 83,
   "metadata": {
    "autoscroll": "json-false",
    "ein.tags": [
     "worksheet-0"
    ],
    "jupyter": {
     "outputs_hidden": false
    }
   },
   "outputs": [
    {
     "name": "stdout",
     "output_type": "stream",
     "text": [
      "10\n"
     ]
    }
   ],
   "source": [
    "a = 10\n",
    "if a > 0 :\n",
    "      print(a)     # un seul des deux blocs est pris en considération"
   ]
  },
  {
   "cell_type": "markdown",
   "metadata": {},
   "source": [
    "## Le test `if ... else`"
   ]
  },
  {
   "cell_type": "code",
   "execution_count": 85,
   "metadata": {
    "jupyter": {
     "outputs_hidden": false
    }
   },
   "outputs": [
    {
     "name": "stdout",
     "output_type": "stream",
     "text": [
      "v n'est pas égal à 2\n"
     ]
    }
   ],
   "source": [
    "v = 3\n",
    "if v == 2 :\n",
    "    print (\"v est égal à 2\")\n",
    "else :\n",
    "    print (\"v n'est pas égal à 2\")"
   ]
  },
  {
   "cell_type": "markdown",
   "metadata": {},
   "source": [
    "**La clause ``else`` n'est obligatoire :**"
   ]
  },
  {
   "cell_type": "code",
   "execution_count": null,
   "metadata": {
    "jupyter": {
     "outputs_hidden": false
    }
   },
   "outputs": [],
   "source": [
    "v = 2\n",
    "if v == 2 :\n",
    "    print (\"v est égal à 2\")"
   ]
  },
  {
   "cell_type": "markdown",
   "metadata": {},
   "source": [
    "## Plusieurs tests enchaînés : `if ... elif ... else`"
   ]
  },
  {
   "cell_type": "code",
   "execution_count": 88,
   "metadata": {
    "jupyter": {
     "outputs_hidden": false
    }
   },
   "outputs": [
    {
     "name": "stdout",
     "output_type": "stream",
     "text": [
      "v est inférieur à 2\n"
     ]
    }
   ],
   "source": [
    "v = 0\n",
    "if v == 2 :\n",
    "    print (\"v est égal à 2\")\n",
    "elif v > 2 :\n",
    "    print (\"v est supérieur strictement à 2\")\n",
    "else :\n",
    "    print (\"v est inférieur à 2\")"
   ]
  },
  {
   "cell_type": "markdown",
   "metadata": {
    "ein.tags": [
     "worksheet-0"
    ]
   },
   "source": [
    "# Les chaînes de caractères (type `str`)"
   ]
  },
  {
   "cell_type": "code",
   "execution_count": 91,
   "metadata": {
    "autoscroll": "json-false",
    "ein.tags": [
     "worksheet-0"
    ],
    "jupyter": {
     "outputs_hidden": false
    }
   },
   "outputs": [
    {
     "name": "stdout",
     "output_type": "stream",
     "text": [
      "10\n",
      "a\n",
      "c texte c\n"
     ]
    }
   ],
   "source": [
    "a = 10\n",
    "print(a)     # quelle est la différence\n",
    "print(\"a\")   # entre les deux lignes\n",
    "s = \"texte\"\n",
    "s = \"c\" + \" \" + s +\" \" + \"c\"\n",
    "print(s)"
   ]
  },
  {
   "cell_type": "markdown",
   "metadata": {
    "ein.tags": [
     "worksheet-0"
    ]
   },
   "source": [
    "Toute valeur a un type et cela détermine les opérations qu'on peut faire dessus. ``2 + 2`` fait ``4`` pour tout le monde. ``2 + \"2\"`` fait quatre pour un humain, mais est incompréhensible pour l'ordinateur car on ajoute deux choses différentes (``torchon + serviette``)."
   ]
  },
  {
   "cell_type": "code",
   "execution_count": 92,
   "metadata": {
    "autoscroll": "json-false",
    "ein.tags": [
     "worksheet-0"
    ],
    "jupyter": {
     "outputs_hidden": false
    }
   },
   "outputs": [
    {
     "name": "stdout",
     "output_type": "stream",
     "text": [
      "23\n",
      "5\n"
     ]
    }
   ],
   "source": [
    "print(\"2\" + \"3\")\n",
    "print(2+3)"
   ]
  },
  {
   "cell_type": "markdown",
   "metadata": {},
   "source": [
    "# Les fonctions\n",
    "\n",
    "Les fonctions sont des portions de programmes qui reproduisent les mêmes instructions. La fonction suivante calcule un polynôme de second degré $x^2+x-5$. \n",
    "\n",
    "A chaque fois qu'on appellera la fonction ``polynome``, elle fera le même calcul sur des ``x`` différents. Cela évite principalement d'avoir à recopier les mêmes lignes à chaque fois qu'on en a besoin."
   ]
  },
  {
   "cell_type": "code",
   "execution_count": 94,
   "metadata": {
    "jupyter": {
     "outputs_hidden": false
    }
   },
   "outputs": [
    {
     "data": {
      "text/plain": [
       "-3"
      ]
     },
     "execution_count": 94,
     "metadata": {},
     "output_type": "execute_result"
    }
   ],
   "source": [
    "def polynome( x=1 ) :\n",
    "    return x**2 + x - 5\n",
    "\n",
    "polynome()"
   ]
  },
  {
   "cell_type": "markdown",
   "metadata": {},
   "source": [
    "Une fonction commence toujours par ``def``. Entre parenthèses, ce sont les paramètres (ou entrées de la fonction). Ce qui suit le mot-clé ``return`` est le résultat de la fonction (ou sa sortie). Parmi les fonctions, il y a celles qui existent déjà et celles que vous écrivez. La fonction ``cos`` existe déjà : elle fait un calcul qu'il n'est pas besoin de réécrire. La fonction ``polynome`` décrite plus haut n'existait pas avant de l'avoir définie."
   ]
  },
  {
   "cell_type": "markdown",
   "metadata": {},
   "source": [
    "On peut appeler une fonction depuis une autre fonction. Une fonction peut prendre autant de paramètres que l'on veut à condition qu'ils aient des noms différents. On peut aussi leur associer une valeur par défaut :"
   ]
  },
  {
   "cell_type": "code",
   "execution_count": null,
   "metadata": {
    "jupyter": {
     "outputs_hidden": false
    }
   },
   "outputs": [],
   "source": [
    "from math import log  # on importe une fonction existante\n",
    "def log_base ( x, base = 10 ) :\n",
    "    return log (x) / log(base)\n",
    "\n",
    "y = log_base (1000)      # identique à y = log_base (1000, 10)\n",
    "z = log_base (1000, 2)   # logarithme en base deux\n",
    "y,z"
   ]
  },
  {
   "cell_type": "markdown",
   "metadata": {},
   "source": [
    "# Numpy and Scipy\n",
    "\n",
    "[Numpy](http://numpy.org) contains core routines for doing fast vector, matrix, and linear algebra-type operations in Python. [Scipy](http://scipy) contains additional routines for optimization, special functions, and so on. Both contain modules written in C and Fortran so that they're as fast as possible. Together, they give Python roughly the same capability that the [Matlab](http://www.mathworks.com/products/matlab/) program offers. (In fact, if you're an experienced Matlab user, there a [guide to Numpy for Matlab users](http://www.scipy.org/NumPy_for_Matlab_Users) just for you.)\n",
    "\n",
    "## Création de vecteurs et matrices\n",
    "Fundamental to both Numpy and Scipy is the ability to work with vectors and matrices. You can create vectors from lists using the **array** command:"
   ]
  },
  {
   "cell_type": "code",
   "execution_count": 95,
   "metadata": {
    "jupyter": {
     "outputs_hidden": false
    }
   },
   "outputs": [],
   "source": [
    "from pylab import *"
   ]
  },
  {
   "cell_type": "markdown",
   "metadata": {},
   "source": [
    "### Vecteurs et matrices nuls\n",
    "\n",
    "You can also form empty (zero) matrices of arbitrary shape (including vectors, which Numpy treats as vectors with one row), using the zeros command:"
   ]
  },
  {
   "cell_type": "code",
   "execution_count": 96,
   "metadata": {
    "jupyter": {
     "outputs_hidden": false
    }
   },
   "outputs": [
    {
     "data": {
      "text/plain": [
       "array([ 0.,  0.,  0.])"
      ]
     },
     "execution_count": 96,
     "metadata": {},
     "output_type": "execute_result"
    }
   ],
   "source": [
    "Nx = 3\n",
    "v = zeros(Nx)\n",
    "v"
   ]
  },
  {
   "cell_type": "code",
   "execution_count": 97,
   "metadata": {
    "jupyter": {
     "outputs_hidden": false
    }
   },
   "outputs": [
    {
     "data": {
      "text/plain": [
       "array([[ 0.,  0.],\n",
       "       [ 0.,  0.],\n",
       "       [ 0.,  0.]])"
      ]
     },
     "execution_count": 97,
     "metadata": {},
     "output_type": "execute_result"
    }
   ],
   "source": [
    "Nx = 3\n",
    "Nt = 2\n",
    "c = zeros((Nx,Nt))\n",
    "c"
   ]
  },
  {
   "cell_type": "markdown",
   "metadata": {},
   "source": [
    "### Distribution de valeurs avec `linspace` \n",
    "\n",
    "The linspace command makes a linear array of points from a starting to an ending value with a specific number of points."
   ]
  },
  {
   "cell_type": "code",
   "execution_count": 98,
   "metadata": {
    "jupyter": {
     "outputs_hidden": false
    }
   },
   "outputs": [
    {
     "data": {
      "text/plain": [
       "array([ 0.  ,  0.25,  0.5 ,  0.75,  1.  ])"
      ]
     },
     "execution_count": 98,
     "metadata": {},
     "output_type": "execute_result"
    }
   ],
   "source": [
    "start     = 0\n",
    "stop      = 1\n",
    "nb_points = 5\n",
    "\n",
    "x = linspace(start,stop,nb_points)\n",
    "x"
   ]
  },
  {
   "cell_type": "markdown",
   "metadata": {},
   "source": [
    "### Distribution de valeurs avec `arange` \n",
    "\n",
    "The arange command makes a linear array of points from a starting to an ending value with a specific step"
   ]
  },
  {
   "cell_type": "code",
   "execution_count": 99,
   "metadata": {
    "jupyter": {
     "outputs_hidden": false
    }
   },
   "outputs": [
    {
     "data": {
      "text/plain": [
       "array([ 0.  ,  0.25,  0.5 ,  0.75])"
      ]
     },
     "execution_count": 99,
     "metadata": {},
     "output_type": "execute_result"
    }
   ],
   "source": [
    "start = 0\n",
    "stop  = 1\n",
    "step  = 0.25\n",
    "arange(start,stop,step)"
   ]
  },
  {
   "cell_type": "markdown",
   "metadata": {},
   "source": [
    "# Figures avec Matplotlib"
   ]
  },
  {
   "cell_type": "code",
   "execution_count": 1,
   "metadata": {
    "jupyter": {
     "outputs_hidden": false
    }
   },
   "outputs": [
    {
     "name": "stdout",
     "output_type": "stream",
     "text": [
      "Populating the interactive namespace from numpy and matplotlib\n"
     ]
    }
   ],
   "source": [
    "# L'environnement de travail pylab offre une syntaxe proche de Matlab et permet une prise en main rapide\n",
    "# nbagg est une option permet d'avoir des graphiques interactifs dans le notebook\n",
    "%pylab nbagg"
   ]
  },
  {
   "cell_type": "code",
   "execution_count": 2,
   "metadata": {
    "jupyter": {
     "outputs_hidden": true
    }
   },
   "outputs": [],
   "source": [
    "start     = 0\n",
    "stop      = 2*pi\n",
    "nb_points = 25\n",
    "x = linspace(start,stop,nb_points)"
   ]
  },
  {
   "cell_type": "code",
   "execution_count": 3,
   "metadata": {
    "jupyter": {
     "outputs_hidden": false
    }
   },
   "outputs": [
    {
     "data": {
      "application/javascript": [
       "/* Put everything inside the global mpl namespace */\n",
       "/* global mpl */\n",
       "window.mpl = {};\n",
       "\n",
       "mpl.get_websocket_type = function () {\n",
       "    if (typeof WebSocket !== 'undefined') {\n",
       "        return WebSocket;\n",
       "    } else if (typeof MozWebSocket !== 'undefined') {\n",
       "        return MozWebSocket;\n",
       "    } else {\n",
       "        alert(\n",
       "            'Your browser does not have WebSocket support. ' +\n",
       "                'Please try Chrome, Safari or Firefox ≥ 6. ' +\n",
       "                'Firefox 4 and 5 are also supported but you ' +\n",
       "                'have to enable WebSockets in about:config.'\n",
       "        );\n",
       "    }\n",
       "};\n",
       "\n",
       "mpl.figure = function (figure_id, websocket, ondownload, parent_element) {\n",
       "    this.id = figure_id;\n",
       "\n",
       "    this.ws = websocket;\n",
       "\n",
       "    this.supports_binary = this.ws.binaryType !== undefined;\n",
       "\n",
       "    if (!this.supports_binary) {\n",
       "        var warnings = document.getElementById('mpl-warnings');\n",
       "        if (warnings) {\n",
       "            warnings.style.display = 'block';\n",
       "            warnings.textContent =\n",
       "                'This browser does not support binary websocket messages. ' +\n",
       "                'Performance may be slow.';\n",
       "        }\n",
       "    }\n",
       "\n",
       "    this.imageObj = new Image();\n",
       "\n",
       "    this.context = undefined;\n",
       "    this.message = undefined;\n",
       "    this.canvas = undefined;\n",
       "    this.rubberband_canvas = undefined;\n",
       "    this.rubberband_context = undefined;\n",
       "    this.format_dropdown = undefined;\n",
       "\n",
       "    this.image_mode = 'full';\n",
       "\n",
       "    this.root = document.createElement('div');\n",
       "    this.root.setAttribute('style', 'display: inline-block');\n",
       "    this._root_extra_style(this.root);\n",
       "\n",
       "    parent_element.appendChild(this.root);\n",
       "\n",
       "    this._init_header(this);\n",
       "    this._init_canvas(this);\n",
       "    this._init_toolbar(this);\n",
       "\n",
       "    var fig = this;\n",
       "\n",
       "    this.waiting = false;\n",
       "\n",
       "    this.ws.onopen = function () {\n",
       "        fig.send_message('supports_binary', { value: fig.supports_binary });\n",
       "        fig.send_message('send_image_mode', {});\n",
       "        if (fig.ratio !== 1) {\n",
       "            fig.send_message('set_device_pixel_ratio', {\n",
       "                device_pixel_ratio: fig.ratio,\n",
       "            });\n",
       "        }\n",
       "        fig.send_message('refresh', {});\n",
       "    };\n",
       "\n",
       "    this.imageObj.onload = function () {\n",
       "        if (fig.image_mode === 'full') {\n",
       "            // Full images could contain transparency (where diff images\n",
       "            // almost always do), so we need to clear the canvas so that\n",
       "            // there is no ghosting.\n",
       "            fig.context.clearRect(0, 0, fig.canvas.width, fig.canvas.height);\n",
       "        }\n",
       "        fig.context.drawImage(fig.imageObj, 0, 0);\n",
       "    };\n",
       "\n",
       "    this.imageObj.onunload = function () {\n",
       "        fig.ws.close();\n",
       "    };\n",
       "\n",
       "    this.ws.onmessage = this._make_on_message_function(this);\n",
       "\n",
       "    this.ondownload = ondownload;\n",
       "};\n",
       "\n",
       "mpl.figure.prototype._init_header = function () {\n",
       "    var titlebar = document.createElement('div');\n",
       "    titlebar.classList =\n",
       "        'ui-dialog-titlebar ui-widget-header ui-corner-all ui-helper-clearfix';\n",
       "    var titletext = document.createElement('div');\n",
       "    titletext.classList = 'ui-dialog-title';\n",
       "    titletext.setAttribute(\n",
       "        'style',\n",
       "        'width: 100%; text-align: center; padding: 3px;'\n",
       "    );\n",
       "    titlebar.appendChild(titletext);\n",
       "    this.root.appendChild(titlebar);\n",
       "    this.header = titletext;\n",
       "};\n",
       "\n",
       "mpl.figure.prototype._canvas_extra_style = function (_canvas_div) {};\n",
       "\n",
       "mpl.figure.prototype._root_extra_style = function (_canvas_div) {};\n",
       "\n",
       "mpl.figure.prototype._init_canvas = function () {\n",
       "    var fig = this;\n",
       "\n",
       "    var canvas_div = (this.canvas_div = document.createElement('div'));\n",
       "    canvas_div.setAttribute(\n",
       "        'style',\n",
       "        'border: 1px solid #ddd;' +\n",
       "            'box-sizing: content-box;' +\n",
       "            'clear: both;' +\n",
       "            'min-height: 1px;' +\n",
       "            'min-width: 1px;' +\n",
       "            'outline: 0;' +\n",
       "            'overflow: hidden;' +\n",
       "            'position: relative;' +\n",
       "            'resize: both;'\n",
       "    );\n",
       "\n",
       "    function on_keyboard_event_closure(name) {\n",
       "        return function (event) {\n",
       "            return fig.key_event(event, name);\n",
       "        };\n",
       "    }\n",
       "\n",
       "    canvas_div.addEventListener(\n",
       "        'keydown',\n",
       "        on_keyboard_event_closure('key_press')\n",
       "    );\n",
       "    canvas_div.addEventListener(\n",
       "        'keyup',\n",
       "        on_keyboard_event_closure('key_release')\n",
       "    );\n",
       "\n",
       "    this._canvas_extra_style(canvas_div);\n",
       "    this.root.appendChild(canvas_div);\n",
       "\n",
       "    var canvas = (this.canvas = document.createElement('canvas'));\n",
       "    canvas.classList.add('mpl-canvas');\n",
       "    canvas.setAttribute('style', 'box-sizing: content-box;');\n",
       "\n",
       "    this.context = canvas.getContext('2d');\n",
       "\n",
       "    var backingStore =\n",
       "        this.context.backingStorePixelRatio ||\n",
       "        this.context.webkitBackingStorePixelRatio ||\n",
       "        this.context.mozBackingStorePixelRatio ||\n",
       "        this.context.msBackingStorePixelRatio ||\n",
       "        this.context.oBackingStorePixelRatio ||\n",
       "        this.context.backingStorePixelRatio ||\n",
       "        1;\n",
       "\n",
       "    this.ratio = (window.devicePixelRatio || 1) / backingStore;\n",
       "\n",
       "    var rubberband_canvas = (this.rubberband_canvas = document.createElement(\n",
       "        'canvas'\n",
       "    ));\n",
       "    rubberband_canvas.setAttribute(\n",
       "        'style',\n",
       "        'box-sizing: content-box; position: absolute; left: 0; top: 0; z-index: 1;'\n",
       "    );\n",
       "\n",
       "    // Apply a ponyfill if ResizeObserver is not implemented by browser.\n",
       "    if (this.ResizeObserver === undefined) {\n",
       "        if (window.ResizeObserver !== undefined) {\n",
       "            this.ResizeObserver = window.ResizeObserver;\n",
       "        } else {\n",
       "            var obs = _JSXTOOLS_RESIZE_OBSERVER({});\n",
       "            this.ResizeObserver = obs.ResizeObserver;\n",
       "        }\n",
       "    }\n",
       "\n",
       "    this.resizeObserverInstance = new this.ResizeObserver(function (entries) {\n",
       "        var nentries = entries.length;\n",
       "        for (var i = 0; i < nentries; i++) {\n",
       "            var entry = entries[i];\n",
       "            var width, height;\n",
       "            if (entry.contentBoxSize) {\n",
       "                if (entry.contentBoxSize instanceof Array) {\n",
       "                    // Chrome 84 implements new version of spec.\n",
       "                    width = entry.contentBoxSize[0].inlineSize;\n",
       "                    height = entry.contentBoxSize[0].blockSize;\n",
       "                } else {\n",
       "                    // Firefox implements old version of spec.\n",
       "                    width = entry.contentBoxSize.inlineSize;\n",
       "                    height = entry.contentBoxSize.blockSize;\n",
       "                }\n",
       "            } else {\n",
       "                // Chrome <84 implements even older version of spec.\n",
       "                width = entry.contentRect.width;\n",
       "                height = entry.contentRect.height;\n",
       "            }\n",
       "\n",
       "            // Keep the size of the canvas and rubber band canvas in sync with\n",
       "            // the canvas container.\n",
       "            if (entry.devicePixelContentBoxSize) {\n",
       "                // Chrome 84 implements new version of spec.\n",
       "                canvas.setAttribute(\n",
       "                    'width',\n",
       "                    entry.devicePixelContentBoxSize[0].inlineSize\n",
       "                );\n",
       "                canvas.setAttribute(\n",
       "                    'height',\n",
       "                    entry.devicePixelContentBoxSize[0].blockSize\n",
       "                );\n",
       "            } else {\n",
       "                canvas.setAttribute('width', width * fig.ratio);\n",
       "                canvas.setAttribute('height', height * fig.ratio);\n",
       "            }\n",
       "            canvas.setAttribute(\n",
       "                'style',\n",
       "                'width: ' + width + 'px; height: ' + height + 'px;'\n",
       "            );\n",
       "\n",
       "            rubberband_canvas.setAttribute('width', width);\n",
       "            rubberband_canvas.setAttribute('height', height);\n",
       "\n",
       "            // And update the size in Python. We ignore the initial 0/0 size\n",
       "            // that occurs as the element is placed into the DOM, which should\n",
       "            // otherwise not happen due to the minimum size styling.\n",
       "            if (fig.ws.readyState == 1 && width != 0 && height != 0) {\n",
       "                fig.request_resize(width, height);\n",
       "            }\n",
       "        }\n",
       "    });\n",
       "    this.resizeObserverInstance.observe(canvas_div);\n",
       "\n",
       "    function on_mouse_event_closure(name) {\n",
       "        return function (event) {\n",
       "            return fig.mouse_event(event, name);\n",
       "        };\n",
       "    }\n",
       "\n",
       "    rubberband_canvas.addEventListener(\n",
       "        'mousedown',\n",
       "        on_mouse_event_closure('button_press')\n",
       "    );\n",
       "    rubberband_canvas.addEventListener(\n",
       "        'mouseup',\n",
       "        on_mouse_event_closure('button_release')\n",
       "    );\n",
       "    rubberband_canvas.addEventListener(\n",
       "        'dblclick',\n",
       "        on_mouse_event_closure('dblclick')\n",
       "    );\n",
       "    // Throttle sequential mouse events to 1 every 20ms.\n",
       "    rubberband_canvas.addEventListener(\n",
       "        'mousemove',\n",
       "        on_mouse_event_closure('motion_notify')\n",
       "    );\n",
       "\n",
       "    rubberband_canvas.addEventListener(\n",
       "        'mouseenter',\n",
       "        on_mouse_event_closure('figure_enter')\n",
       "    );\n",
       "    rubberband_canvas.addEventListener(\n",
       "        'mouseleave',\n",
       "        on_mouse_event_closure('figure_leave')\n",
       "    );\n",
       "\n",
       "    canvas_div.addEventListener('wheel', function (event) {\n",
       "        if (event.deltaY < 0) {\n",
       "            event.step = 1;\n",
       "        } else {\n",
       "            event.step = -1;\n",
       "        }\n",
       "        on_mouse_event_closure('scroll')(event);\n",
       "    });\n",
       "\n",
       "    canvas_div.appendChild(canvas);\n",
       "    canvas_div.appendChild(rubberband_canvas);\n",
       "\n",
       "    this.rubberband_context = rubberband_canvas.getContext('2d');\n",
       "    this.rubberband_context.strokeStyle = '#000000';\n",
       "\n",
       "    this._resize_canvas = function (width, height, forward) {\n",
       "        if (forward) {\n",
       "            canvas_div.style.width = width + 'px';\n",
       "            canvas_div.style.height = height + 'px';\n",
       "        }\n",
       "    };\n",
       "\n",
       "    // Disable right mouse context menu.\n",
       "    this.rubberband_canvas.addEventListener('contextmenu', function (_e) {\n",
       "        event.preventDefault();\n",
       "        return false;\n",
       "    });\n",
       "\n",
       "    function set_focus() {\n",
       "        canvas.focus();\n",
       "        canvas_div.focus();\n",
       "    }\n",
       "\n",
       "    window.setTimeout(set_focus, 100);\n",
       "};\n",
       "\n",
       "mpl.figure.prototype._init_toolbar = function () {\n",
       "    var fig = this;\n",
       "\n",
       "    var toolbar = document.createElement('div');\n",
       "    toolbar.classList = 'mpl-toolbar';\n",
       "    this.root.appendChild(toolbar);\n",
       "\n",
       "    function on_click_closure(name) {\n",
       "        return function (_event) {\n",
       "            return fig.toolbar_button_onclick(name);\n",
       "        };\n",
       "    }\n",
       "\n",
       "    function on_mouseover_closure(tooltip) {\n",
       "        return function (event) {\n",
       "            if (!event.currentTarget.disabled) {\n",
       "                return fig.toolbar_button_onmouseover(tooltip);\n",
       "            }\n",
       "        };\n",
       "    }\n",
       "\n",
       "    fig.buttons = {};\n",
       "    var buttonGroup = document.createElement('div');\n",
       "    buttonGroup.classList = 'mpl-button-group';\n",
       "    for (var toolbar_ind in mpl.toolbar_items) {\n",
       "        var name = mpl.toolbar_items[toolbar_ind][0];\n",
       "        var tooltip = mpl.toolbar_items[toolbar_ind][1];\n",
       "        var image = mpl.toolbar_items[toolbar_ind][2];\n",
       "        var method_name = mpl.toolbar_items[toolbar_ind][3];\n",
       "\n",
       "        if (!name) {\n",
       "            /* Instead of a spacer, we start a new button group. */\n",
       "            if (buttonGroup.hasChildNodes()) {\n",
       "                toolbar.appendChild(buttonGroup);\n",
       "            }\n",
       "            buttonGroup = document.createElement('div');\n",
       "            buttonGroup.classList = 'mpl-button-group';\n",
       "            continue;\n",
       "        }\n",
       "\n",
       "        var button = (fig.buttons[name] = document.createElement('button'));\n",
       "        button.classList = 'mpl-widget';\n",
       "        button.setAttribute('role', 'button');\n",
       "        button.setAttribute('aria-disabled', 'false');\n",
       "        button.addEventListener('click', on_click_closure(method_name));\n",
       "        button.addEventListener('mouseover', on_mouseover_closure(tooltip));\n",
       "\n",
       "        var icon_img = document.createElement('img');\n",
       "        icon_img.src = '_images/' + image + '.png';\n",
       "        icon_img.srcset = '_images/' + image + '_large.png 2x';\n",
       "        icon_img.alt = tooltip;\n",
       "        button.appendChild(icon_img);\n",
       "\n",
       "        buttonGroup.appendChild(button);\n",
       "    }\n",
       "\n",
       "    if (buttonGroup.hasChildNodes()) {\n",
       "        toolbar.appendChild(buttonGroup);\n",
       "    }\n",
       "\n",
       "    var fmt_picker = document.createElement('select');\n",
       "    fmt_picker.classList = 'mpl-widget';\n",
       "    toolbar.appendChild(fmt_picker);\n",
       "    this.format_dropdown = fmt_picker;\n",
       "\n",
       "    for (var ind in mpl.extensions) {\n",
       "        var fmt = mpl.extensions[ind];\n",
       "        var option = document.createElement('option');\n",
       "        option.selected = fmt === mpl.default_extension;\n",
       "        option.innerHTML = fmt;\n",
       "        fmt_picker.appendChild(option);\n",
       "    }\n",
       "\n",
       "    var status_bar = document.createElement('span');\n",
       "    status_bar.classList = 'mpl-message';\n",
       "    toolbar.appendChild(status_bar);\n",
       "    this.message = status_bar;\n",
       "};\n",
       "\n",
       "mpl.figure.prototype.request_resize = function (x_pixels, y_pixels) {\n",
       "    // Request matplotlib to resize the figure. Matplotlib will then trigger a resize in the client,\n",
       "    // which will in turn request a refresh of the image.\n",
       "    this.send_message('resize', { width: x_pixels, height: y_pixels });\n",
       "};\n",
       "\n",
       "mpl.figure.prototype.send_message = function (type, properties) {\n",
       "    properties['type'] = type;\n",
       "    properties['figure_id'] = this.id;\n",
       "    this.ws.send(JSON.stringify(properties));\n",
       "};\n",
       "\n",
       "mpl.figure.prototype.send_draw_message = function () {\n",
       "    if (!this.waiting) {\n",
       "        this.waiting = true;\n",
       "        this.ws.send(JSON.stringify({ type: 'draw', figure_id: this.id }));\n",
       "    }\n",
       "};\n",
       "\n",
       "mpl.figure.prototype.handle_save = function (fig, _msg) {\n",
       "    var format_dropdown = fig.format_dropdown;\n",
       "    var format = format_dropdown.options[format_dropdown.selectedIndex].value;\n",
       "    fig.ondownload(fig, format);\n",
       "};\n",
       "\n",
       "mpl.figure.prototype.handle_resize = function (fig, msg) {\n",
       "    var size = msg['size'];\n",
       "    if (size[0] !== fig.canvas.width || size[1] !== fig.canvas.height) {\n",
       "        fig._resize_canvas(size[0], size[1], msg['forward']);\n",
       "        fig.send_message('refresh', {});\n",
       "    }\n",
       "};\n",
       "\n",
       "mpl.figure.prototype.handle_rubberband = function (fig, msg) {\n",
       "    var x0 = msg['x0'] / fig.ratio;\n",
       "    var y0 = (fig.canvas.height - msg['y0']) / fig.ratio;\n",
       "    var x1 = msg['x1'] / fig.ratio;\n",
       "    var y1 = (fig.canvas.height - msg['y1']) / fig.ratio;\n",
       "    x0 = Math.floor(x0) + 0.5;\n",
       "    y0 = Math.floor(y0) + 0.5;\n",
       "    x1 = Math.floor(x1) + 0.5;\n",
       "    y1 = Math.floor(y1) + 0.5;\n",
       "    var min_x = Math.min(x0, x1);\n",
       "    var min_y = Math.min(y0, y1);\n",
       "    var width = Math.abs(x1 - x0);\n",
       "    var height = Math.abs(y1 - y0);\n",
       "\n",
       "    fig.rubberband_context.clearRect(\n",
       "        0,\n",
       "        0,\n",
       "        fig.canvas.width / fig.ratio,\n",
       "        fig.canvas.height / fig.ratio\n",
       "    );\n",
       "\n",
       "    fig.rubberband_context.strokeRect(min_x, min_y, width, height);\n",
       "};\n",
       "\n",
       "mpl.figure.prototype.handle_figure_label = function (fig, msg) {\n",
       "    // Updates the figure title.\n",
       "    fig.header.textContent = msg['label'];\n",
       "};\n",
       "\n",
       "mpl.figure.prototype.handle_cursor = function (fig, msg) {\n",
       "    fig.rubberband_canvas.style.cursor = msg['cursor'];\n",
       "};\n",
       "\n",
       "mpl.figure.prototype.handle_message = function (fig, msg) {\n",
       "    fig.message.textContent = msg['message'];\n",
       "};\n",
       "\n",
       "mpl.figure.prototype.handle_draw = function (fig, _msg) {\n",
       "    // Request the server to send over a new figure.\n",
       "    fig.send_draw_message();\n",
       "};\n",
       "\n",
       "mpl.figure.prototype.handle_image_mode = function (fig, msg) {\n",
       "    fig.image_mode = msg['mode'];\n",
       "};\n",
       "\n",
       "mpl.figure.prototype.handle_history_buttons = function (fig, msg) {\n",
       "    for (var key in msg) {\n",
       "        if (!(key in fig.buttons)) {\n",
       "            continue;\n",
       "        }\n",
       "        fig.buttons[key].disabled = !msg[key];\n",
       "        fig.buttons[key].setAttribute('aria-disabled', !msg[key]);\n",
       "    }\n",
       "};\n",
       "\n",
       "mpl.figure.prototype.handle_navigate_mode = function (fig, msg) {\n",
       "    if (msg['mode'] === 'PAN') {\n",
       "        fig.buttons['Pan'].classList.add('active');\n",
       "        fig.buttons['Zoom'].classList.remove('active');\n",
       "    } else if (msg['mode'] === 'ZOOM') {\n",
       "        fig.buttons['Pan'].classList.remove('active');\n",
       "        fig.buttons['Zoom'].classList.add('active');\n",
       "    } else {\n",
       "        fig.buttons['Pan'].classList.remove('active');\n",
       "        fig.buttons['Zoom'].classList.remove('active');\n",
       "    }\n",
       "};\n",
       "\n",
       "mpl.figure.prototype.updated_canvas_event = function () {\n",
       "    // Called whenever the canvas gets updated.\n",
       "    this.send_message('ack', {});\n",
       "};\n",
       "\n",
       "// A function to construct a web socket function for onmessage handling.\n",
       "// Called in the figure constructor.\n",
       "mpl.figure.prototype._make_on_message_function = function (fig) {\n",
       "    return function socket_on_message(evt) {\n",
       "        if (evt.data instanceof Blob) {\n",
       "            var img = evt.data;\n",
       "            if (img.type !== 'image/png') {\n",
       "                /* FIXME: We get \"Resource interpreted as Image but\n",
       "                 * transferred with MIME type text/plain:\" errors on\n",
       "                 * Chrome.  But how to set the MIME type?  It doesn't seem\n",
       "                 * to be part of the websocket stream */\n",
       "                img.type = 'image/png';\n",
       "            }\n",
       "\n",
       "            /* Free the memory for the previous frames */\n",
       "            if (fig.imageObj.src) {\n",
       "                (window.URL || window.webkitURL).revokeObjectURL(\n",
       "                    fig.imageObj.src\n",
       "                );\n",
       "            }\n",
       "\n",
       "            fig.imageObj.src = (window.URL || window.webkitURL).createObjectURL(\n",
       "                img\n",
       "            );\n",
       "            fig.updated_canvas_event();\n",
       "            fig.waiting = false;\n",
       "            return;\n",
       "        } else if (\n",
       "            typeof evt.data === 'string' &&\n",
       "            evt.data.slice(0, 21) === 'data:image/png;base64'\n",
       "        ) {\n",
       "            fig.imageObj.src = evt.data;\n",
       "            fig.updated_canvas_event();\n",
       "            fig.waiting = false;\n",
       "            return;\n",
       "        }\n",
       "\n",
       "        var msg = JSON.parse(evt.data);\n",
       "        var msg_type = msg['type'];\n",
       "\n",
       "        // Call the  \"handle_{type}\" callback, which takes\n",
       "        // the figure and JSON message as its only arguments.\n",
       "        try {\n",
       "            var callback = fig['handle_' + msg_type];\n",
       "        } catch (e) {\n",
       "            console.log(\n",
       "                \"No handler for the '\" + msg_type + \"' message type: \",\n",
       "                msg\n",
       "            );\n",
       "            return;\n",
       "        }\n",
       "\n",
       "        if (callback) {\n",
       "            try {\n",
       "                // console.log(\"Handling '\" + msg_type + \"' message: \", msg);\n",
       "                callback(fig, msg);\n",
       "            } catch (e) {\n",
       "                console.log(\n",
       "                    \"Exception inside the 'handler_\" + msg_type + \"' callback:\",\n",
       "                    e,\n",
       "                    e.stack,\n",
       "                    msg\n",
       "                );\n",
       "            }\n",
       "        }\n",
       "    };\n",
       "};\n",
       "\n",
       "// from https://stackoverflow.com/questions/1114465/getting-mouse-location-in-canvas\n",
       "mpl.findpos = function (e) {\n",
       "    //this section is from http://www.quirksmode.org/js/events_properties.html\n",
       "    var targ;\n",
       "    if (!e) {\n",
       "        e = window.event;\n",
       "    }\n",
       "    if (e.target) {\n",
       "        targ = e.target;\n",
       "    } else if (e.srcElement) {\n",
       "        targ = e.srcElement;\n",
       "    }\n",
       "    if (targ.nodeType === 3) {\n",
       "        // defeat Safari bug\n",
       "        targ = targ.parentNode;\n",
       "    }\n",
       "\n",
       "    // pageX,Y are the mouse positions relative to the document\n",
       "    var boundingRect = targ.getBoundingClientRect();\n",
       "    var x = e.pageX - (boundingRect.left + document.body.scrollLeft);\n",
       "    var y = e.pageY - (boundingRect.top + document.body.scrollTop);\n",
       "\n",
       "    return { x: x, y: y };\n",
       "};\n",
       "\n",
       "/*\n",
       " * return a copy of an object with only non-object keys\n",
       " * we need this to avoid circular references\n",
       " * https://stackoverflow.com/a/24161582/3208463\n",
       " */\n",
       "function simpleKeys(original) {\n",
       "    return Object.keys(original).reduce(function (obj, key) {\n",
       "        if (typeof original[key] !== 'object') {\n",
       "            obj[key] = original[key];\n",
       "        }\n",
       "        return obj;\n",
       "    }, {});\n",
       "}\n",
       "\n",
       "mpl.figure.prototype.mouse_event = function (event, name) {\n",
       "    var canvas_pos = mpl.findpos(event);\n",
       "\n",
       "    if (name === 'button_press') {\n",
       "        this.canvas.focus();\n",
       "        this.canvas_div.focus();\n",
       "    }\n",
       "\n",
       "    var x = canvas_pos.x * this.ratio;\n",
       "    var y = canvas_pos.y * this.ratio;\n",
       "\n",
       "    this.send_message(name, {\n",
       "        x: x,\n",
       "        y: y,\n",
       "        button: event.button,\n",
       "        step: event.step,\n",
       "        guiEvent: simpleKeys(event),\n",
       "    });\n",
       "\n",
       "    /* This prevents the web browser from automatically changing to\n",
       "     * the text insertion cursor when the button is pressed.  We want\n",
       "     * to control all of the cursor setting manually through the\n",
       "     * 'cursor' event from matplotlib */\n",
       "    event.preventDefault();\n",
       "    return false;\n",
       "};\n",
       "\n",
       "mpl.figure.prototype._key_event_extra = function (_event, _name) {\n",
       "    // Handle any extra behaviour associated with a key event\n",
       "};\n",
       "\n",
       "mpl.figure.prototype.key_event = function (event, name) {\n",
       "    // Prevent repeat events\n",
       "    if (name === 'key_press') {\n",
       "        if (event.key === this._key) {\n",
       "            return;\n",
       "        } else {\n",
       "            this._key = event.key;\n",
       "        }\n",
       "    }\n",
       "    if (name === 'key_release') {\n",
       "        this._key = null;\n",
       "    }\n",
       "\n",
       "    var value = '';\n",
       "    if (event.ctrlKey && event.key !== 'Control') {\n",
       "        value += 'ctrl+';\n",
       "    }\n",
       "    else if (event.altKey && event.key !== 'Alt') {\n",
       "        value += 'alt+';\n",
       "    }\n",
       "    else if (event.shiftKey && event.key !== 'Shift') {\n",
       "        value += 'shift+';\n",
       "    }\n",
       "\n",
       "    value += 'k' + event.key;\n",
       "\n",
       "    this._key_event_extra(event, name);\n",
       "\n",
       "    this.send_message(name, { key: value, guiEvent: simpleKeys(event) });\n",
       "    return false;\n",
       "};\n",
       "\n",
       "mpl.figure.prototype.toolbar_button_onclick = function (name) {\n",
       "    if (name === 'download') {\n",
       "        this.handle_save(this, null);\n",
       "    } else {\n",
       "        this.send_message('toolbar_button', { name: name });\n",
       "    }\n",
       "};\n",
       "\n",
       "mpl.figure.prototype.toolbar_button_onmouseover = function (tooltip) {\n",
       "    this.message.textContent = tooltip;\n",
       "};\n",
       "\n",
       "///////////////// REMAINING CONTENT GENERATED BY embed_js.py /////////////////\n",
       "// prettier-ignore\n",
       "var _JSXTOOLS_RESIZE_OBSERVER=function(A){var t,i=new WeakMap,n=new WeakMap,a=new WeakMap,r=new WeakMap,o=new Set;function s(e){if(!(this instanceof s))throw new TypeError(\"Constructor requires 'new' operator\");i.set(this,e)}function h(){throw new TypeError(\"Function is not a constructor\")}function c(e,t,i,n){e=0 in arguments?Number(arguments[0]):0,t=1 in arguments?Number(arguments[1]):0,i=2 in arguments?Number(arguments[2]):0,n=3 in arguments?Number(arguments[3]):0,this.right=(this.x=this.left=e)+(this.width=i),this.bottom=(this.y=this.top=t)+(this.height=n),Object.freeze(this)}function d(){t=requestAnimationFrame(d);var s=new WeakMap,p=new Set;o.forEach((function(t){r.get(t).forEach((function(i){var r=t instanceof window.SVGElement,o=a.get(t),d=r?0:parseFloat(o.paddingTop),f=r?0:parseFloat(o.paddingRight),l=r?0:parseFloat(o.paddingBottom),u=r?0:parseFloat(o.paddingLeft),g=r?0:parseFloat(o.borderTopWidth),m=r?0:parseFloat(o.borderRightWidth),w=r?0:parseFloat(o.borderBottomWidth),b=u+f,F=d+l,v=(r?0:parseFloat(o.borderLeftWidth))+m,W=g+w,y=r?0:t.offsetHeight-W-t.clientHeight,E=r?0:t.offsetWidth-v-t.clientWidth,R=b+v,z=F+W,M=r?t.width:parseFloat(o.width)-R-E,O=r?t.height:parseFloat(o.height)-z-y;if(n.has(t)){var k=n.get(t);if(k[0]===M&&k[1]===O)return}n.set(t,[M,O]);var S=Object.create(h.prototype);S.target=t,S.contentRect=new c(u,d,M,O),s.has(i)||(s.set(i,[]),p.add(i)),s.get(i).push(S)}))})),p.forEach((function(e){i.get(e).call(e,s.get(e),e)}))}return s.prototype.observe=function(i){if(i instanceof window.Element){r.has(i)||(r.set(i,new Set),o.add(i),a.set(i,window.getComputedStyle(i)));var n=r.get(i);n.has(this)||n.add(this),cancelAnimationFrame(t),t=requestAnimationFrame(d)}},s.prototype.unobserve=function(i){if(i instanceof window.Element&&r.has(i)){var n=r.get(i);n.has(this)&&(n.delete(this),n.size||(r.delete(i),o.delete(i))),n.size||r.delete(i),o.size||cancelAnimationFrame(t)}},A.DOMRectReadOnly=c,A.ResizeObserver=s,A.ResizeObserverEntry=h,A}; // eslint-disable-line\n",
       "mpl.toolbar_items = [[\"Home\", \"Reset original view\", \"fa fa-home icon-home\", \"home\"], [\"Back\", \"Back to previous view\", \"fa fa-arrow-left icon-arrow-left\", \"back\"], [\"Forward\", \"Forward to next view\", \"fa fa-arrow-right icon-arrow-right\", \"forward\"], [\"\", \"\", \"\", \"\"], [\"Pan\", \"Left button pans, Right button zooms\\nx/y fixes axis, CTRL fixes aspect\", \"fa fa-arrows icon-move\", \"pan\"], [\"Zoom\", \"Zoom to rectangle\\nx/y fixes axis\", \"fa fa-square-o icon-check-empty\", \"zoom\"], [\"\", \"\", \"\", \"\"], [\"Download\", \"Download plot\", \"fa fa-floppy-o icon-save\", \"download\"]];\n",
       "\n",
       "mpl.extensions = [\"eps\", \"jpeg\", \"pgf\", \"pdf\", \"png\", \"ps\", \"raw\", \"svg\", \"tif\"];\n",
       "\n",
       "mpl.default_extension = \"png\";/* global mpl */\n",
       "\n",
       "var comm_websocket_adapter = function (comm) {\n",
       "    // Create a \"websocket\"-like object which calls the given IPython comm\n",
       "    // object with the appropriate methods. Currently this is a non binary\n",
       "    // socket, so there is still some room for performance tuning.\n",
       "    var ws = {};\n",
       "\n",
       "    ws.binaryType = comm.kernel.ws.binaryType;\n",
       "    ws.readyState = comm.kernel.ws.readyState;\n",
       "    function updateReadyState(_event) {\n",
       "        if (comm.kernel.ws) {\n",
       "            ws.readyState = comm.kernel.ws.readyState;\n",
       "        } else {\n",
       "            ws.readyState = 3; // Closed state.\n",
       "        }\n",
       "    }\n",
       "    comm.kernel.ws.addEventListener('open', updateReadyState);\n",
       "    comm.kernel.ws.addEventListener('close', updateReadyState);\n",
       "    comm.kernel.ws.addEventListener('error', updateReadyState);\n",
       "\n",
       "    ws.close = function () {\n",
       "        comm.close();\n",
       "    };\n",
       "    ws.send = function (m) {\n",
       "        //console.log('sending', m);\n",
       "        comm.send(m);\n",
       "    };\n",
       "    // Register the callback with on_msg.\n",
       "    comm.on_msg(function (msg) {\n",
       "        //console.log('receiving', msg['content']['data'], msg);\n",
       "        var data = msg['content']['data'];\n",
       "        if (data['blob'] !== undefined) {\n",
       "            data = {\n",
       "                data: new Blob(msg['buffers'], { type: data['blob'] }),\n",
       "            };\n",
       "        }\n",
       "        // Pass the mpl event to the overridden (by mpl) onmessage function.\n",
       "        ws.onmessage(data);\n",
       "    });\n",
       "    return ws;\n",
       "};\n",
       "\n",
       "mpl.mpl_figure_comm = function (comm, msg) {\n",
       "    // This is the function which gets called when the mpl process\n",
       "    // starts-up an IPython Comm through the \"matplotlib\" channel.\n",
       "\n",
       "    var id = msg.content.data.id;\n",
       "    // Get hold of the div created by the display call when the Comm\n",
       "    // socket was opened in Python.\n",
       "    var element = document.getElementById(id);\n",
       "    var ws_proxy = comm_websocket_adapter(comm);\n",
       "\n",
       "    function ondownload(figure, _format) {\n",
       "        window.open(figure.canvas.toDataURL());\n",
       "    }\n",
       "\n",
       "    var fig = new mpl.figure(id, ws_proxy, ondownload, element);\n",
       "\n",
       "    // Call onopen now - mpl needs it, as it is assuming we've passed it a real\n",
       "    // web socket which is closed, not our websocket->open comm proxy.\n",
       "    ws_proxy.onopen();\n",
       "\n",
       "    fig.parent_element = element;\n",
       "    fig.cell_info = mpl.find_output_cell(\"<div id='\" + id + \"'></div>\");\n",
       "    if (!fig.cell_info) {\n",
       "        console.error('Failed to find cell for figure', id, fig);\n",
       "        return;\n",
       "    }\n",
       "    fig.cell_info[0].output_area.element.on(\n",
       "        'cleared',\n",
       "        { fig: fig },\n",
       "        fig._remove_fig_handler\n",
       "    );\n",
       "};\n",
       "\n",
       "mpl.figure.prototype.handle_close = function (fig, msg) {\n",
       "    var width = fig.canvas.width / fig.ratio;\n",
       "    fig.cell_info[0].output_area.element.off(\n",
       "        'cleared',\n",
       "        fig._remove_fig_handler\n",
       "    );\n",
       "    fig.resizeObserverInstance.unobserve(fig.canvas_div);\n",
       "\n",
       "    // Update the output cell to use the data from the current canvas.\n",
       "    fig.push_to_output();\n",
       "    var dataURL = fig.canvas.toDataURL();\n",
       "    // Re-enable the keyboard manager in IPython - without this line, in FF,\n",
       "    // the notebook keyboard shortcuts fail.\n",
       "    IPython.keyboard_manager.enable();\n",
       "    fig.parent_element.innerHTML =\n",
       "        '<img src=\"' + dataURL + '\" width=\"' + width + '\">';\n",
       "    fig.close_ws(fig, msg);\n",
       "};\n",
       "\n",
       "mpl.figure.prototype.close_ws = function (fig, msg) {\n",
       "    fig.send_message('closing', msg);\n",
       "    // fig.ws.close()\n",
       "};\n",
       "\n",
       "mpl.figure.prototype.push_to_output = function (_remove_interactive) {\n",
       "    // Turn the data on the canvas into data in the output cell.\n",
       "    var width = this.canvas.width / this.ratio;\n",
       "    var dataURL = this.canvas.toDataURL();\n",
       "    this.cell_info[1]['text/html'] =\n",
       "        '<img src=\"' + dataURL + '\" width=\"' + width + '\">';\n",
       "};\n",
       "\n",
       "mpl.figure.prototype.updated_canvas_event = function () {\n",
       "    // Tell IPython that the notebook contents must change.\n",
       "    IPython.notebook.set_dirty(true);\n",
       "    this.send_message('ack', {});\n",
       "    var fig = this;\n",
       "    // Wait a second, then push the new image to the DOM so\n",
       "    // that it is saved nicely (might be nice to debounce this).\n",
       "    setTimeout(function () {\n",
       "        fig.push_to_output();\n",
       "    }, 1000);\n",
       "};\n",
       "\n",
       "mpl.figure.prototype._init_toolbar = function () {\n",
       "    var fig = this;\n",
       "\n",
       "    var toolbar = document.createElement('div');\n",
       "    toolbar.classList = 'btn-toolbar';\n",
       "    this.root.appendChild(toolbar);\n",
       "\n",
       "    function on_click_closure(name) {\n",
       "        return function (_event) {\n",
       "            return fig.toolbar_button_onclick(name);\n",
       "        };\n",
       "    }\n",
       "\n",
       "    function on_mouseover_closure(tooltip) {\n",
       "        return function (event) {\n",
       "            if (!event.currentTarget.disabled) {\n",
       "                return fig.toolbar_button_onmouseover(tooltip);\n",
       "            }\n",
       "        };\n",
       "    }\n",
       "\n",
       "    fig.buttons = {};\n",
       "    var buttonGroup = document.createElement('div');\n",
       "    buttonGroup.classList = 'btn-group';\n",
       "    var button;\n",
       "    for (var toolbar_ind in mpl.toolbar_items) {\n",
       "        var name = mpl.toolbar_items[toolbar_ind][0];\n",
       "        var tooltip = mpl.toolbar_items[toolbar_ind][1];\n",
       "        var image = mpl.toolbar_items[toolbar_ind][2];\n",
       "        var method_name = mpl.toolbar_items[toolbar_ind][3];\n",
       "\n",
       "        if (!name) {\n",
       "            /* Instead of a spacer, we start a new button group. */\n",
       "            if (buttonGroup.hasChildNodes()) {\n",
       "                toolbar.appendChild(buttonGroup);\n",
       "            }\n",
       "            buttonGroup = document.createElement('div');\n",
       "            buttonGroup.classList = 'btn-group';\n",
       "            continue;\n",
       "        }\n",
       "\n",
       "        button = fig.buttons[name] = document.createElement('button');\n",
       "        button.classList = 'btn btn-default';\n",
       "        button.href = '#';\n",
       "        button.title = name;\n",
       "        button.innerHTML = '<i class=\"fa ' + image + ' fa-lg\"></i>';\n",
       "        button.addEventListener('click', on_click_closure(method_name));\n",
       "        button.addEventListener('mouseover', on_mouseover_closure(tooltip));\n",
       "        buttonGroup.appendChild(button);\n",
       "    }\n",
       "\n",
       "    if (buttonGroup.hasChildNodes()) {\n",
       "        toolbar.appendChild(buttonGroup);\n",
       "    }\n",
       "\n",
       "    // Add the status bar.\n",
       "    var status_bar = document.createElement('span');\n",
       "    status_bar.classList = 'mpl-message pull-right';\n",
       "    toolbar.appendChild(status_bar);\n",
       "    this.message = status_bar;\n",
       "\n",
       "    // Add the close button to the window.\n",
       "    var buttongrp = document.createElement('div');\n",
       "    buttongrp.classList = 'btn-group inline pull-right';\n",
       "    button = document.createElement('button');\n",
       "    button.classList = 'btn btn-mini btn-primary';\n",
       "    button.href = '#';\n",
       "    button.title = 'Stop Interaction';\n",
       "    button.innerHTML = '<i class=\"fa fa-power-off icon-remove icon-large\"></i>';\n",
       "    button.addEventListener('click', function (_evt) {\n",
       "        fig.handle_close(fig, {});\n",
       "    });\n",
       "    button.addEventListener(\n",
       "        'mouseover',\n",
       "        on_mouseover_closure('Stop Interaction')\n",
       "    );\n",
       "    buttongrp.appendChild(button);\n",
       "    var titlebar = this.root.querySelector('.ui-dialog-titlebar');\n",
       "    titlebar.insertBefore(buttongrp, titlebar.firstChild);\n",
       "};\n",
       "\n",
       "mpl.figure.prototype._remove_fig_handler = function (event) {\n",
       "    var fig = event.data.fig;\n",
       "    if (event.target !== this) {\n",
       "        // Ignore bubbled events from children.\n",
       "        return;\n",
       "    }\n",
       "    fig.close_ws(fig, {});\n",
       "};\n",
       "\n",
       "mpl.figure.prototype._root_extra_style = function (el) {\n",
       "    el.style.boxSizing = 'content-box'; // override notebook setting of border-box.\n",
       "};\n",
       "\n",
       "mpl.figure.prototype._canvas_extra_style = function (el) {\n",
       "    // this is important to make the div 'focusable\n",
       "    el.setAttribute('tabindex', 0);\n",
       "    // reach out to IPython and tell the keyboard manager to turn it's self\n",
       "    // off when our div gets focus\n",
       "\n",
       "    // location in version 3\n",
       "    if (IPython.notebook.keyboard_manager) {\n",
       "        IPython.notebook.keyboard_manager.register_events(el);\n",
       "    } else {\n",
       "        // location in version 2\n",
       "        IPython.keyboard_manager.register_events(el);\n",
       "    }\n",
       "};\n",
       "\n",
       "mpl.figure.prototype._key_event_extra = function (event, _name) {\n",
       "    // Check for shift+enter\n",
       "    if (event.shiftKey && event.which === 13) {\n",
       "        this.canvas_div.blur();\n",
       "        // select the cell after this one\n",
       "        var index = IPython.notebook.find_cell_index(this.cell_info[0]);\n",
       "        IPython.notebook.select(index + 1);\n",
       "    }\n",
       "};\n",
       "\n",
       "mpl.figure.prototype.handle_save = function (fig, _msg) {\n",
       "    fig.ondownload(fig, null);\n",
       "};\n",
       "\n",
       "mpl.find_output_cell = function (html_output) {\n",
       "    // Return the cell and output element which can be found *uniquely* in the notebook.\n",
       "    // Note - this is a bit hacky, but it is done because the \"notebook_saving.Notebook\"\n",
       "    // IPython event is triggered only after the cells have been serialised, which for\n",
       "    // our purposes (turning an active figure into a static one), is too late.\n",
       "    var cells = IPython.notebook.get_cells();\n",
       "    var ncells = cells.length;\n",
       "    for (var i = 0; i < ncells; i++) {\n",
       "        var cell = cells[i];\n",
       "        if (cell.cell_type === 'code') {\n",
       "            for (var j = 0; j < cell.output_area.outputs.length; j++) {\n",
       "                var data = cell.output_area.outputs[j];\n",
       "                if (data.data) {\n",
       "                    // IPython >= 3 moved mimebundle to data attribute of output\n",
       "                    data = data.data;\n",
       "                }\n",
       "                if (data['text/html'] === html_output) {\n",
       "                    return [cell, data, j];\n",
       "                }\n",
       "            }\n",
       "        }\n",
       "    }\n",
       "};\n",
       "\n",
       "// Register the function which deals with the matplotlib target/channel.\n",
       "// The kernel may be null if the page has been refreshed.\n",
       "if (IPython.notebook.kernel !== null) {\n",
       "    IPython.notebook.kernel.comm_manager.register_target(\n",
       "        'matplotlib',\n",
       "        mpl.mpl_figure_comm\n",
       "    );\n",
       "}\n"
      ],
      "text/plain": [
       "<IPython.core.display.Javascript object>"
      ]
     },
     "metadata": {},
     "output_type": "display_data"
    },
    {
     "data": {
      "text/html": [
       "<img src=\"data:image/png;base64,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\" width=\"640\">"
      ],
      "text/plain": [
       "<IPython.core.display.HTML object>"
      ]
     },
     "metadata": {},
     "output_type": "display_data"
    },
    {
     "data": {
      "text/plain": [
       "<matplotlib.legend.Legend at 0x7fa49ef81250>"
      ]
     },
     "execution_count": 3,
     "metadata": {},
     "output_type": "execute_result"
    }
   ],
   "source": [
    "figure()\n",
    "title(\"Titre de la figure\")\n",
    "\n",
    "plot(x,sin(x),'b-',label='sin(x)',linewidth=1)\n",
    "plot(x,cos(x),'ro-',label='cos(x)',linewidth=3)\n",
    "\n",
    "ylabel(\"Concentration $c(x,t)$\")\n",
    "xlabel(\"Abscisse $x$ des noeuds\")\n",
    "\n",
    "grid()\n",
    "legend()"
   ]
  },
  {
   "cell_type": "code",
   "execution_count": null,
   "metadata": {
    "collapsed": true,
    "jupyter": {
     "outputs_hidden": true
    }
   },
   "outputs": [],
   "source": []
  }
 ],
 "metadata": {
  "kernelspec": {
   "display_name": "Python 3 (ipykernel)",
   "language": "python",
   "name": "python3"
  },
  "language_info": {
   "codemirror_mode": {
    "name": "ipython",
    "version": 3
   },
   "file_extension": ".py",
   "mimetype": "text/x-python",
   "name": "python",
   "nbconvert_exporter": "python",
   "pygments_lexer": "ipython3",
   "version": "3.8.8"
  },
  "name": "td1a_cenonce_session1.ipynb"
 },
 "nbformat": 4,
 "nbformat_minor": 4
}
