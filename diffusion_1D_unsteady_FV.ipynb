{
 "cells": [
  {
   "cell_type": "markdown",
   "metadata": {},
   "source": [
    "# Le problème instationnaire de diffusion 1D\n"
   ]
  },
  {
   "cell_type": "markdown",
   "metadata": {},
   "source": [
    "## Description du problème\n",
    "\n",
    "Une plaque mince est portée à une température uniforme de 200°C. \n",
    "\n",
    "À instant $t=0$ la température du côté droit de la plaque est soudainement réduite à 0°C. Le coté gauche est quand à lui supposé isolé.\n",
    "\n",
    "L'équation de conduction thermique transitoire qui correspond au problème 1D peut s'écrire :\n",
    "$$\\rho c_{p}\\frac{\\partial T}{\\partial t}=\\frac{\\partial}{\\partial x}\\left(\\lambda\\frac{\\partial T}{\\partial x}\\right)$$\n",
    "\n",
    "ou aussi :\n",
    "\n",
    "$$\\frac{\\partial T}{\\partial t}=\\frac{\\partial}{\\partial x}\\left(\\Gamma\\frac{\\partial T}{\\partial x}\\right)$$\n",
    "\n",
    "On notera :\n",
    "\n",
    "- $\\Gamma=\\frac{\\lambda}{\\rho c_{p}}\\,\\left(m^{2}.s^{-1}\\right)$ le coefficient de diffusion thermique,\n",
    "- $\\lambda\\,\\left(W.m^{-1}.K^{-1}\\right)$ la conductivité thermique,\n",
    "- $\\rho\\,\\left(kg.m^{-3}\\right)$ la masse volumique,\n",
    "- $c_{p}\\,(J.kg^{-1}.K^{-1})$ la capacité thermique massique.\n",
    "\n",
    "avec :\n",
    "\n",
    "- comme condition initiale : $T\\left(x,0\\right)=200\\,\\forall x$\n",
    "- comme conditions aux limites : $\\frac{\\partial T}{\\partial x}\\left(0,t\\right)=0\\,\\forall t>0$ et $T\\left(L,t\\right)=0\\,\\forall t>0$\n",
    "\n",
    "**Données :** longueur de la plaque $L=2\\text{ cm}$, conductivité thermique $\\lambda=10W.m^{-1}.K^{-1}$ et $\\rho c_{p}=10\\times10^{6}J.m^{-3}.K^{-1}$.\n"
   ]
  },
  {
   "cell_type": "markdown",
   "metadata": {},
   "source": [
    "## Resolution numérique\n"
   ]
  },
  {
   "cell_type": "code",
   "execution_count": 1,
   "metadata": {},
   "outputs": [],
   "source": [
    "import numpy as np\n",
    "from matplotlib import pyplot as plt"
   ]
  },
  {
   "cell_type": "code",
   "execution_count": null,
   "metadata": {},
   "outputs": [],
   "source": [
    "def diffusion_unsteady(L, N, Nt, dt, T_init, T_L, gamma):\n",
    "    \"\"\"\n",
    "    Resoud un EDP de diffusion pure instationnaire 1D\n",
    "    'L': longueur du domaine\n",
    "    'N': nb de cellules\n",
    "    'Nt': nb d'iérations temporelles\n",
    "    'dt': pas de temps\n",
    "    'T_init': température initiale\n",
    "    'T_L': température en x = L\n",
    "    'gamma': coefficient de diffusion\n",
    "    \"\"\"\n",
    "    # Maillage\n",
    "    dx = L/float(N)                     # Pas d'espace\n",
    "    x = np.linspace(dx/2, L-dx/2, N)    # Abscisses des centres des cellules\n",
    "\n",
    "    # Initialisation\n",
    "    T = np.zeros((N,Nt+1))\n",
    "    T[:,0] = T_init\n",
    "\n",
    "    # Calcul de la solution au cours du temps\n",
    "    for n in range(Nt):\n",
    "        \n",
    "        # Pour les cellules intérieures\n",
    "        for i in range(1, N-1): \n",
    "            T[i,n+1] = T[i,n] + (gamma*dt)/(dx**2) * (T[i-1,n] -2*T[i,n] + T[i+1,n] )\n",
    "\n",
    "        # Cellule frontière 0 - x=0\n",
    "        T[0,n+1] = (1-(gamma*dt)/(dx**2))*T[0,n]+ (gamma*dt)/(dx**2) * T[1,n]\n",
    "\n",
    "        # Cellule frontière N-1 - x=L\n",
    "        T[-1,n+1] = 2*gamma*dt/(dx**2)*T_L + gamma*dt/(dx**2)*T[-2,n] + (1-3*gamma*dt/(dx**2))*T[-1,n]\n",
    "\n",
    "    return x, T"
   ]
  },
  {
   "cell_type": "code",
   "execution_count": 7,
   "metadata": {},
   "outputs": [
    {
     "name": "stdout",
     "output_type": "stream",
     "text": [
      "\n",
      " Le pas de temps max pour garantir la stabilité du schéma explicite est : \t8.0\n"
     ]
    }
   ],
   "source": [
    "# Maillage\n",
    "L = 0.02                    # Longueur du domaine de calcul\n",
    "N = 5                       # Nb de cellules\n",
    "dx = L/float(N)                     # Pas d'espace\n",
    "\n",
    "# Paramètres physique\n",
    "k = 10          # Conductivité thermique\n",
    "rho_c = pow(10,7)\n",
    "gamma = k / rho_c # Coefficient de diffusion thermique\n",
    "\n",
    "T_init = 200    # Température initiale\n",
    "T_L = 0         # Température en x=L\n",
    "\n",
    "t_fin = 500         # Temps final à atteindre\n",
    "dt = 2              # Pas de temps\n",
    "Nt = int(t_fin/dt)  # Nombres d'itérations temporelles\n",
    "dt_max = rho_c*(dx*dx/float(2.0*k))        #  Pas de temps max autorisé pour la stabilité\n",
    "print (\"\\n Le pas de temps max pour garantir la stabilité du schéma explicite est : \\t\" + str(dt_max))"
   ]
  },
  {
   "cell_type": "code",
   "execution_count": 4,
   "metadata": {},
   "outputs": [],
   "source": [
    "# Calcul de la solution\n",
    "x, T = diffusion_unsteady(L,N,Nt,dt,T_init,T_L,gamma)"
   ]
  },
  {
   "cell_type": "code",
   "execution_count": 5,
   "metadata": {},
   "outputs": [
    {
     "data": {
      "image/png": "[encoded data removed]",
      "text/plain": [
       "<Figure size 640x480 with 1 Axes>"
      ]
     },
     "metadata": {},
     "output_type": "display_data"
    }
   ],
   "source": [
    "# Affichage de la solution\n",
    "plt.figure()\n",
    "plt.plot(x, T[:,Nt], '-o')\n",
    "plt.xlabel(r\"$x(m)$\")\n",
    "plt.ylabel(r\"$T(°C)$\")\n",
    "plt.title(r\"$T(x)$ à $t=$\"+str(Nt*dt)+\"s\")\n",
    "plt.grid()\n",
    "plt.show()"
   ]
  },
  {
   "cell_type": "markdown",
   "metadata": {},
   "source": [
    "#### Bof pour la présentation des résultats ... :(\n",
    "\n",
    "Essayons d'utiliser les widgets pour rendre l'analyse de la solution plus ludique, interactive et efficace.\n"
   ]
  },
  {
   "cell_type": "code",
   "execution_count": null,
   "metadata": {},
   "outputs": [
    {
     "data": {
      "application/vnd.jupyter.widget-view+json": {
       "model_id": "d75b46a5fcbe4befaa7659cd4b97e835",
       "version_major": 2,
       "version_minor": 0
      },
      "text/plain": [
       "interactive(children=(IntSlider(value=0, description='m', max=250), Output()), _dom_classes=('widget-interact'…"
      ]
     },
     "execution_count": 6,
     "metadata": {},
     "output_type": "execute_result"
    }
   ],
   "source": [
    "# Importation du module des widgets\n",
    "from ipywidgets import interactive\n",
    "\n",
    "def plot_sol(m=0):\n",
    "    \"Afichage de la solution à une iteration m\"\n",
    "    plt.figure(2)\n",
    "    plt.plot(x, T[:,m], '-o')\n",
    "    plt.ylim(0,T_init+5)\n",
    "    plt.xlabel(r\"$x(m)$\")\n",
    "    plt.ylabel(r\"$T(°C)$\")\n",
    "    plt.title(r\"$T(x)$ à $t=$\"+str(m*dt)+\"s\")\n",
    "    plt.grid()\n",
    "    plt.show()\n",
    "\n",
    "interactive_plot = interactive(plot_sol, m=(0, Nt))\n",
    "#output = interactive_plot.children[-1]\n",
    "interactive_plot\n"
   ]
  }
 ],
 "metadata": {
  "kernelspec": {
   "display_name": "Python 3",
   "language": "python",
   "name": "python3"
  },
  "language_info": {
   "codemirror_mode": {
    "name": "ipython",
    "version": 3
   },
   "file_extension": ".py",
   "mimetype": "text/x-python",
   "name": "python",
   "nbconvert_exporter": "python",
   "pygments_lexer": "ipython3",
   "version": "3.13.3"
  }
 },
 "nbformat": 4,
 "nbformat_minor": 4
}
