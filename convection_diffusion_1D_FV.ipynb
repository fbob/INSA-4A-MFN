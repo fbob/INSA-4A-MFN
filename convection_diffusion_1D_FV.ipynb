{
 "cells": [
  {
   "cell_type": "markdown",
   "id": "cf30d648",
   "metadata": {},
   "source": [
    "# Convection diffusion 1D stationnaire"
   ]
  },
  {
   "cell_type": "markdown",
   "id": "44cfe3c5",
   "metadata": {},
   "source": [
    "## Description du problème\n",
    "\n",
    "![](Images/convection_diffusion_1D_2.png)\n",
    "\n",
    "On considère ici le problème stationnaire de convection-diffusion de la quantité $\\phi$ en 1D $(x\\in\\left[0,L\\right])$ , régit par l'équation aux dérivées partielles suivante:\n",
    "\n",
    "\\begin{equation}\n",
    "  \\frac{\\partial}{\\partial x} (\\rho u \\phi) = \\frac{\\partial}{\\partial x} (\\Gamma\n",
    "  \\frac{\\partial \\phi}{\\partial x})\n",
    "\\end{equation}\n",
    "\n",
    "où :\n",
    "* $\\Gamma$ est le coéfficient de diffusion (dynamique) supposé constant ici;\n",
    "* $u$ est la vitesse de convection qui est ici supposée connue et constante.\n",
    "\n",
    "On supposera que les valeurs frontières de $\\phi$ en $x=0$ et $x=L$ sont connues avec :\n",
    "\n",
    "* $\\phi\\left(0\\right)=\\phi_{A}$\n",
    "* $\\phi\\left(L\\right)=\\phi_{B}$\n",
    "\n",
    "**1. Traiter numériquement le problème avec des opérateurs d'interpolation linéaires et des différences centrées au second ordre**\n",
    "\n",
    "**2. Comparer la solution numérique à la solution analytique**\n",
    "\n",
    "Celle-ci est donnée par :\n",
    "\n",
    "$$\\frac{\\phi-\\phi_{A}}{\\phi_{B}-\\phi_{A}}=\\frac{\\exp\\left(\\frac{P_{e}x}{L}\\right)-1}{\\exp\\left(P_{e}\\right)-1}$$\n",
    "\n",
    "où $P_{e}$ est le nombre de Péclet (il représente le rapport entre les forces de convection et de diffusion) défini par la relation :\n",
    "\n",
    "$$P_{e}=\\frac{\\rho uL}{\\Gamma}$$\n",
    "\n",
    "**Données :**  $L = 1.0 m$, $\\rho = 1.0 kg.m^{-3}$, $\\Gamma = 0.1 kg.m^{-1}.s^{-1}$, $u=2.5 m.s^{-1}$, $\\phi_{A} = 1$, $\\phi_{B} = 0$."
   ]
  },
  {
   "cell_type": "markdown",
   "id": "54370979",
   "metadata": {},
   "source": [
    "## Intégration sur un volume de controle\n",
    "\n",
    "Pour obtenir l'équation aux volumes finis, l'équation  est intégrée sur un volume de controle $V_i$ de centre $x_i$ et de largeur $\\Delta x = x_{i + 1 / 2} - x_{i - 1 / 2}$, comme indiqué dans la figure ci-dessous.\n",
    "\n",
    "<p align=\"center\">\n",
    "  <img src=\"Images/control_volume_constant_step_phi.png\" alt=\"Control Volume Constant Step Phi\" width=\"400\"/>\n",
    "</p>\n",
    "\n",
    "\n",
    "\\begin{equation}\n",
    "  \\int_{x_{i - 1 / 2}}^{x_{i + 1 / 2}} \\frac{\\partial ( \\rho u \\phi)}{\\partial x} dx = \n",
    "  \\int_{x_{i - 1 / 2}}^{x_{i + 1 / 2}} \\frac{\\partial}{\\partial x}\n",
    "  (\\Gamma \\frac{\\partial \\phi}{\\partial x}) dx \n",
    "\\end{equation}"
   ]
  },
  {
   "cell_type": "markdown",
   "id": "bb81cf89",
   "metadata": {},
   "source": [
    "### Terme diffusif\n",
    "\n",
    "Les termes diffusifs peuvent etre intégrés directement par:\n",
    "\n",
    "\n",
    " $$\\int_{x_{i - 1 / 2}}^{x_{i + 1 / 2}} \\frac{\\partial}{\\partial x} (\\Gamma\n",
    "  \\frac{\\partial \\phi}{\\partial x}) dx = (\\Gamma \\frac{\\partial\n",
    "  \\phi}{\\partial x})_{x_{i + 1 / 2}} - (\\Gamma \\frac{\\partial \\phi}{\\partial\n",
    "  x})_{x_{i - 1 / 2}}$$\n",
    "\n",
    "Les deux flux diffusifs sont remplacés par leur approximation avec des **différences centrées à l'ordre 2** :\n",
    "\n",
    "$$(\\frac{\\partial \\phi}{\\partial x})_{i+1/2} = \\frac{\\phi_{i+1} - \\phi_i}{\\Delta x}$$\n",
    "\n",
    "$$(\\frac{\\partial \\phi}{\\partial x})_{i-1/2} = \\frac{\\phi_i - \\phi_{i-1}}{\\Delta x}$$\n",
    "\n",
    "\n",
    "Ce qui donne $\\Gamma$ étant constant :\n",
    "\n",
    "\\begin{equation}\n",
    "  (\\Gamma \\frac{\\partial \\phi}{\\partial x})_{i + 1 / 2} = \n",
    "  \\Gamma \\frac{\\phi_{i+1} - \\phi_i}{\\Delta x}\n",
    "\\end{equation}\n",
    "\n",
    "\\begin{equation}\n",
    "  (\\Gamma \\frac{\\partial \\phi}{\\partial x})_{i - 1 / 2} = \n",
    "  \\Gamma \\frac{\\phi_i - \\phi_{i-1}}{\\Delta x}\n",
    "\\end{equation}"
   ]
  },
  {
   "cell_type": "markdown",
   "id": "59084fbf",
   "metadata": {},
   "source": [
    "### Terme convectif\n",
    "\n",
    "Le terme convectif de l'équation de transport peut être intégré directement sans aucune approximation. En effet:\n",
    "\n",
    "$$ \\int_{x_{i - 1 / 2}}^{x_{i + 1 / 2}} \\frac{\\partial ( \\rho u \\phi)}{\\partial x} dx =  (\\rho u \\phi)_{i+1/2} - (\\rho u \\phi)_{i-1/2}$$ \n",
    "\n",
    "Mais cela nécessite de calculer les valeurs de $u\\phi$ sur les faces des volumes de controle alors que la valeur n'est calculée uniquement aux centres d'abscisess $x_i$.\n",
    "\n",
    "Une methode simple consiste à évaluer les valeurs aux centres des faces en fonctions de valeurs aux noeuds par une interpolation linéaire i.e le **schéma linear** :\n",
    "\n",
    "$$\\phi_{i - 1 / 2} =  \\frac{\\phi_i + \\phi_{i-1}}{2}$$\n",
    "\n",
    "$$\\phi_{i + 1 / 2} =  \\frac{\\phi_i + \\phi_{i+1}}{2}$$\n",
    "\n",
    "De plus, $\\rho$ et  $u$ sont supposés constants dans le domaine, ce qui permet de simplifier l'expression du terme convectif.\n",
    "\n",
    "$$(\\rho u\\phi)_{i - 1 / 2} =  \\rho u\\frac{\\phi_i + \\phi_{i-1}}{2}$$\n",
    "\n",
    "$$(\\rho  u\\phi)_{i + 1 / 2} =  \\rho u\\frac{\\phi_i + \\phi_{i+1}}{2}$$"
   ]
  },
  {
   "cell_type": "markdown",
   "id": "96a30610",
   "metadata": {},
   "source": [
    "###  Ecriture des équations algébriques\n",
    "\n",
    "En substituant ces approximations dans l'eq. de départ, il vient :\n",
    "\n",
    "$$\n",
    "\\rho u\\frac{\\phi_{i+1}+\\phi_{i}}{2}-\\rho u\\frac{\\phi_{i}+\\phi_{i-1}}{2}=\\Gamma\\frac{\\phi_{i+1}-\\phi_{i}}{\\Delta x}-\\Gamma\\frac{\\phi_{i}-\\phi_{i-1}}{\\Delta x}\n",
    "$$\n",
    "\n",
    "Qui peut alors s'écrire :\n",
    "\n",
    "$$\n",
    "2\\frac{\\Gamma}{\\Delta x}\\phi_{i}=\\left(\\frac{\\Gamma}{\\Delta x}-\\frac{\\rho u}{2}\\right)\\phi_{i+1}+\\left(\\frac{\\Gamma}{\\Delta x}+\\frac{\\rho u}{2}\\right)\\phi_{i-1}\n",
    "$$\n",
    "\n",
    "Ou encore :\n",
    "\n",
    "$$\n",
    "a_{i}\\phi_{i}=a_{i+1}\\phi_{i+1}+a_{i-1}\\phi_{i-1}\n",
    "$$\n",
    "\n",
    "Avec : \n",
    "\n",
    "$$a_{i-1} = \\frac{\\Gamma}{\\Delta x}+\\frac{\\rho u}{2}$$\n",
    "$$a_{i} = 2\\frac{\\Gamma}{\\Delta x}$$\n",
    "$$a_{i+1} = \\frac{\\Gamma}{\\Delta x}-\\frac{\\rho u}{2}$$\n",
    "\n",
    "On peut aussi écrire cette relation en introduisant le nombre de Péclet local $P_{e_{\\Delta x}}$ défini par :\n",
    "\n",
    "$$P_{e_{\\Delta x}} = \\frac{\\rho u \\Delta x}{\\Gamma}$$\n",
    "\n",
    "Il vient alors :\n",
    "\n",
    "$$2\\phi_{i} = \\left(-\\frac{P_{e_{\\Delta x}}}{2} + 1\\right)\\phi_{i+1} +\\left(\\frac{P_{e_{\\Delta x}}}{2} + 1\\right)\\phi_{i-1}$$\n",
    "\n",
    "Soit :\n",
    "\n",
    "$$\n",
    "a_{i}\\phi_{i}=a_{i+1}\\phi_{i+1}+a_{i-1}\\phi_{i-1}\n",
    "$$\n",
    "\n",
    "$$a_{i-1} = \\frac{P_{e_{\\Delta x}}}{2} + 1\\$$\n",
    "$$a_{i} = 2$$\n",
    "$$a_{i+1} = -\\frac{P_{e_{\\Delta x}}}{2} + 1$$\n",
    "\n",
    "Ces relations sont valables pour tous les noeuds intérieurs du maillage, c'est-à-dire pour $i=1$ à $N-2$.\n",
    "\n",
    "### Traitement spécifique des cellules frontières\n",
    "\n",
    "Pour les cellules frontières, il faut procéder différemment car les relations précédentes ne sont plus valides : elles feraient intervenir des valeurs de $\\phi$ qui ne sont pas connues sur le maillage.\n",
    "\n",
    "On utilisera ici des différences avant ou arrière à l'ordre 1 pour approcher les dérivées aux bords du domaine.\n",
    "\n",
    "#### Noeud $i=0$\n",
    "\n",
    "On peut montrer que pour le noeud $i=0$ :\n",
    "\n",
    "$$a_{0}\\phi_{0} = a_{1}\\phi_{1} + b_0$$\n",
    "\n",
    "avec : \n",
    "\n",
    "$$a_{0} = \\frac{P_{e_{\\Delta x}}}{2} + 3$$\n",
    "$$a_{1} = -\\frac{P_{e_{\\Delta x}}}{2} + 1$$\n",
    "$$b_0 = (P_{e_{\\Delta x}} + 2) \\phi_A$$\n",
    "\n",
    "#### Noeud $i=N-1$\n",
    "\n",
    "On peut montrer que pour le noeud $i=N-1$, on a :\n",
    "\n",
    "$$a_{N-1}\\phi_{N-1} = a_{N-2}\\phi_{N-2} + b_{N-1}$$\n",
    "\n",
    "avec :\n",
    "\n",
    "$$a_{N-1} = -\\frac{P_{e_{\\Delta x}}}{2} + 3$$\n",
    "$$a_{N-2} = \\frac{P_{e_{\\Delta x}}}{2} + 1$$\n",
    "$$b_{N-1} = (-P_{e_{\\Delta x}} + 2) \\phi_B$$\n",
    "\n",
    "La matrice du sytème s'écrit donc :\n",
    "\n",
    "$$\\begin{bmatrix}\n",
    "  \\frac{P_{e_{\\Delta x}}}{2} + 3 & -(-\\frac{P_{e_{\\Delta x}}}{2} + 1) & 0 & \\cdots & 0 \\\\\n",
    "  -(\\frac{P_{e_{\\Delta x}}}{2} + 1) & 2 & -(-\\frac{P_{e_{\\Delta x}}}{2} + 1) & \\cdots & 0 \\\\\n",
    "  0 & -(\\frac{P_{e_{\\Delta x}}}{2} + 1) & 2 & \\cdots & 0 \\\\\n",
    "  \\vdots & \\vdots & \\vdots & \\ddots & \\vdots \\\\\n",
    "  0 & 0 & \\cdots & -(\\frac{P_{e_{\\Delta x}}}{2} + 1) & -\\frac{P_{e_{\\Delta x}}}{2} + 3\n",
    "\\end{bmatrix}\n",
    "\\begin{bmatrix}\n",
    "  \\phi_0 \\\\\n",
    "  \\phi_1 \\\\\n",
    "  \\phi_2 \\\\\n",
    "  \\vdots \\\\\n",
    "  \\phi_{N-1}\n",
    "\\end{bmatrix} =\n",
    "\\begin{bmatrix}\n",
    "  (P_{e_{\\Delta x}} + 2) \\phi_A \\\\\n",
    "  0 \\\\\n",
    "  0 \\\\\n",
    "  \\vdots \\\\\n",
    "  (-P_{e_{\\Delta x}} + 2) \\phi_B\n",
    "\\end{bmatrix}$$\n",
    "\n"
   ]
  },
  {
   "cell_type": "markdown",
   "id": "ed8154af",
   "metadata": {},
   "source": [
    "## Résolution numérique du problème"
   ]
  },
  {
   "cell_type": "code",
   "execution_count": 15,
   "id": "027dd83d",
   "metadata": {},
   "outputs": [],
   "source": [
    "import matplotlib.pyplot as plt\n",
    "import numpy as np\n",
    "%matplotlib widget"
   ]
  },
  {
   "cell_type": "code",
   "execution_count": 16,
   "id": "f217924a",
   "metadata": {},
   "outputs": [],
   "source": [
    "def convection_diffusion_steady(L, N, phi_A, phi_B, rho, gamma, u):\n",
    "    \"\"\"\n",
    "    Resoud un EDP de convection diffusion stationnaire 1D\n",
    "    'L': longueur du domaine\n",
    "    'N': nb de cellules\n",
    "    'phi_A': condition limite gauche\n",
    "    'phi_B': condition limite droite\n",
    "    'rho': masse volumique\n",
    "    'gamma': coefficient de diffusion\n",
    "    'u': vitessee de convection\n",
    "    \"\"\"\n",
    "    # Maillage\n",
    "    dx = L/float(N)                     # Pas d'espace\n",
    "    x = np.linspace(dx/2, L-dx/2, N)    # Abscisses des centres des cellules pour un maillage uniforme collocalisé\n",
    "\n",
    "    # Initialisation de phi\n",
    "    # où phi est le champ de la grandeur physique à résoudre\n",
    "    phi = np.zeros(N)\n",
    "\n",
    "    # Remplissage de la matrice A du système linéaire et du second membre B\n",
    "    # A Phi = B\n",
    "    \n",
    "    a = np.zeros((N,N))\n",
    "    b = np.zeros(N)\n",
    "\n",
    "    # Condition aux limites à gauche : x=0-> phi(0) = phi_A\n",
    "    a[0,0] = 3*gamma/dx + rho*u/2\n",
    "    a[0,1] = - (gamma/dx - rho*u/2)\n",
    "    b[0] = (2*gamma/dx + rho*u)*phi_A\n",
    "\n",
    "    for i in range(1, N-1):\n",
    "        a[i,i-1] = - (gamma/dx + rho*u/2)\n",
    "        a[i,i] = 2*gamma/dx\n",
    "        a[i,i+1] = - (gamma/dx - rho*u/2)\n",
    "        b[i] = 0\n",
    "\n",
    "    # Condition aux limites à droite : x=L-> phi(L) = phi_B\n",
    "    a[N-1,N-2] = - (gamma/dx + rho*u/2) \n",
    "    a[N-1,N-1] = 3*gamma/dx - rho*u/2\n",
    "    b[N-1] = (2*gamma/dx - rho*u)*phi_B \n",
    "\n",
    "    phi = np.linalg.solve(a,b)\n",
    "    \n",
    "    return x, phi"
   ]
  },
  {
   "cell_type": "code",
   "execution_count": 17,
   "id": "03c8ff03",
   "metadata": {},
   "outputs": [],
   "source": [
    "# Paramètres physiques\n",
    "rho = 1.0 # Masse volumique\n",
    "gamma = 0.1 # Coefficient de diffusion dynamique\n",
    "u = 2.5     # Vitesse de convection\n",
    "\n",
    "# Creation du maillage\n",
    "N = 5 # Nbr5 de cellules\n",
    "L = 1.0 # Longueur du domaine\n",
    "dx = L / N # pas d'espace\n",
    "\n",
    "# Conditions aux limites\n",
    "phi_A = 1\n",
    "phi_B = 0\n",
    "\n",
    "# Nombre de Peclet\n",
    "Pe = (rho*u*dx)/(gamma)"
   ]
  },
  {
   "cell_type": "code",
   "execution_count": 18,
   "id": "06fdd282",
   "metadata": {},
   "outputs": [],
   "source": [
    "#Solution analytique\n",
    "def phi_analytique(L, N, phi_A, phi_B, rho, gamma, u):\n",
    "    x_ana = np.linspace(0,L,N)\n",
    "    phi_ana = np.zeros(N)\n",
    "    for i in range(0, N):\n",
    "        phi_ana[i] = phi_A + (phi_B - phi_A) * (np.exp(rho*u*x_ana[i]/gamma) - 1)/(np.exp(rho*u*L/gamma) - 1)\n",
    "    return x_ana, phi_ana\n",
    "\n",
    "x_ana, phi_ana = phi_analytique(L, N, phi_A, phi_B, rho, gamma, u)"
   ]
  },
  {
   "cell_type": "code",
   "execution_count": 19,
   "id": "7df73e57",
   "metadata": {},
   "outputs": [],
   "source": [
    "# Calcul de la solution numérique\n",
    "x, phi = convection_diffusion_steady(L, N, phi_A, phi_B, rho, gamma, u)"
   ]
  },
  {
   "cell_type": "code",
   "execution_count": 21,
   "id": "84fe45c3",
   "metadata": {},
   "outputs": [
    {
     "data": {
      "application/vnd.jupyter.widget-view+json": {
       "model_id": "75c58820b6bc437dab92d19abd8ed2ea",
       "version_major": 2,
       "version_minor": 0
      },
      "image/png": "[encoded data removed]",
      "text/html": [
       "\n",
       "            <div style=\"display: inline-block;\">\n",
       "                <div class=\"jupyter-widgets widget-label\" style=\"text-align: center;\">\n",
       "                    Figure\n",
       "                </div>\n",
       "                <img src='data:image/png;base64,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' width=640.0/>\n",
       "            </div>\n",
       "        "
      ],
      "text/plain": [
       "Canvas(toolbar=Toolbar(toolitems=[('Home', 'Reset original view', 'home', 'home'), ('Back', 'Back to previous …"
      ]
     },
     "metadata": {},
     "output_type": "display_data"
    }
   ],
   "source": [
    "# Affichage de la solution\n",
    "plt.figure()\n",
    "plt.plot(x,phi,'-s',label=r'$\\phi$ Numérique')\n",
    "plt.plot(x_ana,phi_ana,linewidth=2, label=r'$\\phi$ Analytique')\n",
    "plt.title(r\"Distribution de $\\phi$ pour $P_{e_{\\Delta x}}=\\frac{\\rho u \\Delta x}{\\Gamma}=$\"+str(round(Pe,2)))\n",
    "plt.xlabel(r'$x$')\n",
    "plt.ylabel(r'$\\phi$')\n",
    "plt.legend()\n",
    "plt.grid()\n",
    "plt.show()"
   ]
  },
  {
   "cell_type": "markdown",
   "id": "4c631b0a",
   "metadata": {},
   "source": [
    "## Pourquoi la solution est non bornée ?\n",
    "\n",
    "Dans le cas stationnaire sans source (ex. : convection-diffusion stationnaire), la forme discrète devient typiquement :\n",
    "\n",
    "Garantir une solution **bornée** signifie que :\n",
    "\n",
    "* Si les conditions aux limites sont dans un intervalle $[\\phi_{\\min}, \\phi_{\\max}]$\n",
    "* Alors toutes les valeurs discrètes $\\phi_i$ restent dans ce même intervalle\n",
    "\n",
    "> C’est l’équivalent discret du **principe du maximum** : une solution sans source reste dans l’enveloppe fixée par les bords.\n",
    "\n",
    "Une solution peut être **non bornée** si les coefficients de la matrice du système ne respectent pas certaines conditions.\n",
    "\n",
    "Pour garantir que la solution du système $\\mathbf{A} \\boldsymbol{\\phi} = \\mathbf{b}$ reste **bornée**, il faut que :\n",
    "\n",
    "* $A_{ii} > 0$ (diagonale positive)\n",
    "* $A_{ij} \\leq 0$ (coefficients hors diagonale **négatifs ou nuls**)\n",
    "* $A_{ii} \\geq \\sum |A_{ij}|$  pour $i\\neq j$ (dominance diagonale stricte)\n",
    "\n",
    "Si ces conditions ne sont **pas** respectées :\n",
    "\n",
    "* La solution peut **dépasser les bornes**\n",
    "* Peut devenir **oscillante** (non monotone)\n",
    "* Peut être **instable numériquement**\n",
    "\n",
    "\n",
    "Supposons une cellule $i$ dont l'équation discrète est :\n",
    "\n",
    "$$a_i \\phi_i = a_{i+1} \\phi_{i+1} + a_{i-1} \\phi_{i-1}$$\n",
    "\n",
    "On réécrit :\n",
    "\n",
    "$$\\phi_i = \\frac{a_{i+1}}{a_i} \\phi_{i+1} + \\frac{a_{i-1}}{a_i} \\phi_{i-1}$$\n",
    "\n",
    "Supposons que $a_{i+1} > 0$ et $a_{i-1} < 0$ avec $a_i > 0$.\n",
    "\n",
    "- $\\frac{a_{i+1}}{a_i} >0$ \n",
    "- $\\frac{a_{i-1}}{a_i} <0$\n",
    "\n",
    "Donc, $\\phi_i$ est une somme d’un multiple **positif** de $\\phi_{i+1}$ et d’un multiple **négatif** de $\\phi_{i-1}$.\n",
    "\n",
    "**Conséquence :**\n",
    "Si $\\phi_{i-1}$ et $\\phi_{i+1}$ sont tous deux $>0$, $\\phi_i$ peut devenir **plus grand que les deux** ou même **$<0$** \n",
    "\n",
    "**Exemples avec $\\phi_{i-1} = \\phi_{i+1} = 1$:**\n",
    "\n",
    "* Si $a_{i+1}/a_i = 5$ et $a_{i-1}/a_i = -2$\n",
    "\n",
    "    Alors : \n",
    "\n",
    "    $$ \\phi_i = 5 \\times 1 + (-2) \\times 1 = 3 $$\n",
    "\n",
    "    $\\phi_i = 3$ est plus grand que $\\phi_{i+1}$ et $\\phi_{i-1}$ qui valent tous deux 1.\n",
    "\n",
    "* Si $a_{i+1}/a_i = 2$ et $a_{i-1}/a_i = -3$ :\n",
    "\n",
    "    $$\\phi_i = 2 \\times 1 + (-3) \\times 1 = -1 <0$$\n",
    "\n",
    "    $\\phi_i <0$ alors que $\\phi_{i+1}$ et $\\phi_{i-1}$ valent tous deux 1.\n",
    "\n",
    "    **Conclusion :**  \n",
    "    C’est pour cela qu’on exige que **tous les coefficients hors diagonale soient négatifs ou nuls** (et la diagonale positive) pour garantir une solution bornée.\n"
   ]
  },
  {
   "cell_type": "code",
   "execution_count": 30,
   "id": "1c017b04",
   "metadata": {},
   "outputs": [],
   "source": [
    "def convection_diffusion_steady_display_matrix(L, N, phi_A, phi_B, rho, gamma, u):\n",
    "    \"\"\"\n",
    "    Resoud un EDP de convection diffusion stationnaire 1D\n",
    "    'L': longueur du domaine\n",
    "    'N': nb de cellules\n",
    "    'phi_A': condition limite gauche\n",
    "    'phi_B': condition limite droite\n",
    "    'rho': masse volumique\n",
    "    'gamma': coefficient de diffusion\n",
    "    'u': vitessee de convection\n",
    "    \"\"\"\n",
    "\n",
    "    from sympy import Matrix, symbols, Eq, latex\n",
    "    from IPython.display import display, Math\n",
    "\n",
    "    # Maillage\n",
    "    dx = L/float(N)                     # Pas d'espace\n",
    "    x = np.linspace(dx/2, L-dx/2, N)    # Abscisses des centres des cellules\n",
    "\n",
    "    # Initialisation\n",
    "    phi = np.zeros(N)\n",
    "\n",
    "    # Remplissage de la matrice A du système linéaire et du second membre B\n",
    "    # A Phi = B\n",
    "    \n",
    "    a = np.zeros((N,N))\n",
    "    b = np.zeros(N)\n",
    "\n",
    "    # Condition aux limites à gauche : x=0-> phi(0) = phi_A\n",
    "    a[0,0] = 3*gamma/dx + rho*u/2\n",
    "    a[0,1] = - (gamma/dx - rho*u/2)\n",
    "    b[0] = (2*gamma/dx + rho*u)*phi_A\n",
    "\n",
    "    for i in range(1, N-1):\n",
    "        a[i,i-1] = - (gamma/dx + rho*u/2)\n",
    "        a[i,i] = 2*gamma/dx\n",
    "        a[i,i+1] = - (gamma/dx - rho*u/2)\n",
    "        b[i] = 0\n",
    "\n",
    "    # Condition aux limites à droite : x=L-> phi(L) = phi_B\n",
    "    a[N-1,N-2] = - (gamma/dx + rho*u/2) \n",
    "    a[N-1,N-1] = 3*gamma/dx - rho*u/2\n",
    "    b[N-1] = (2*gamma/dx - rho*u)*phi_B \n",
    "\n",
    "    \n",
    "    phi = np.linalg.solve(a,b)\n",
    "\n",
    "    # Affichage du sytème d'équations linéaires  \n",
    "    A = Matrix(a)\n",
    "    B = Matrix(b)\n",
    "    Phi = Matrix(phi)\n",
    "    \n",
    "    phi_syms = symbols('Phi0:%d' % (N))  # Crée (Phi1, Phi2, Phi3)\n",
    "    Phi_syms = Matrix(N, 1, phi_syms)\n",
    "    \n",
    "    print(\"Le nb de Peclet local est : \"+str(round(Pe,2)))\n",
    "\n",
    "    display(Math(r\"\\textsf{Système d'équations linéaires : } A \\cdot \\Phi = B\"))\n",
    "    display(Math(r\"A = \" + latex(A)))\n",
    "    display(Math(r\"\\Phi =\" + latex(Phi_syms)))\n",
    "    display(Math(r\"B = \" + latex(B)))\n",
    "    #display(latex(A * Phi))\n",
    "    #display(Eq(A * Phi_syms, B))\n",
    "    display(Math(r\"\\textsf{La solution du système d'équations linéaires : } A \\cdot \\Phi = B \\textsf{ est : }\"))\n",
    "    display(Math(r\"\\Phi = \" + latex(Phi)))\n",
    "    \n",
    "    return"
   ]
  },
  {
   "cell_type": "code",
   "execution_count": 31,
   "id": "9380df66",
   "metadata": {},
   "outputs": [
    {
     "name": "stdout",
     "output_type": "stream",
     "text": [
      "Le nb de Peclet local est : 5.0\n"
     ]
    },
    {
     "data": {
      "text/latex": [
       "$\\displaystyle \\textsf{Système d'équations linéaires : } A \\cdot \\Phi = B$"
      ],
      "text/plain": [
       "<IPython.core.display.Math object>"
      ]
     },
     "metadata": {},
     "output_type": "display_data"
    },
    {
     "data": {
      "text/latex": [
       "$\\displaystyle A = \\left[\\begin{matrix}3.4 & 2.2 & 0.0\\\\-2.8 & 0.6 & 2.2\\\\0.0 & -2.8 & -1.6\\end{matrix}\\right]$"
      ],
      "text/plain": [
       "<IPython.core.display.Math object>"
      ]
     },
     "metadata": {},
     "output_type": "display_data"
    },
    {
     "data": {
      "text/latex": [
       "$\\displaystyle \\Phi =\\left[\\begin{matrix}\\Phi_{0}\\\\\\Phi_{1}\\\\\\Phi_{2}\\end{matrix}\\right]$"
      ],
      "text/plain": [
       "<IPython.core.display.Math object>"
      ]
     },
     "metadata": {},
     "output_type": "display_data"
    },
    {
     "data": {
      "text/latex": [
       "$\\displaystyle B = \\left[\\begin{matrix}5.6\\\\0.0\\\\0.0\\end{matrix}\\right]$"
      ],
      "text/plain": [
       "<IPython.core.display.Math object>"
      ]
     },
     "metadata": {},
     "output_type": "display_data"
    },
    {
     "data": {
      "text/latex": [
       "$\\displaystyle \\textsf{La solution du système d'équations linéaires : } A \\cdot \\Phi = B \\textsf{ est : }$"
      ],
      "text/plain": [
       "<IPython.core.display.Math object>"
      ]
     },
     "metadata": {},
     "output_type": "display_data"
    },
    {
     "data": {
      "text/latex": [
       "$\\displaystyle \\Phi = \\left[\\begin{matrix}3.72188139059305\\\\-3.20654396728016\\\\5.61145194274028\\end{matrix}\\right]$"
      ],
      "text/plain": [
       "<IPython.core.display.Math object>"
      ]
     },
     "metadata": {},
     "output_type": "display_data"
    }
   ],
   "source": [
    "convection_diffusion_steady_display_matrix(L=1, N=3, phi_A=1, phi_B=0, rho=1, gamma=0.1, u=5)"
   ]
  },
  {
   "cell_type": "markdown",
   "id": "53ed2980",
   "metadata": {},
   "source": [
    "### Améliortaion du postraitement avec les `ipywidgets`"
   ]
  },
  {
   "cell_type": "code",
   "execution_count": 32,
   "id": "b33dcbc5",
   "metadata": {},
   "outputs": [
    {
     "data": {
      "application/vnd.jupyter.widget-view+json": {
       "model_id": "d08cc1049b46430e883b57f759bf1cd4",
       "version_major": 2,
       "version_minor": 0
      },
      "text/plain": [
       "interactive(children=(FloatSlider(value=0.2, continuous_update=False, description=\"Pas d'espace\", max=0.5, min…"
      ]
     },
     "metadata": {},
     "output_type": "display_data"
    }
   ],
   "source": [
    "# Importation du module des widgets\n",
    "from ipywidgets import *\n",
    "\n",
    "def calcul_plot_sol(dx, u_conv):\n",
    "    # Calcul du nombre de cellules N\n",
    "    # correspondant au pas d'espace dx\n",
    "    N = int(L/dx)\n",
    "\n",
    "    # Calcul de la solution numérique et analytique en fonction des paramètres donnés\n",
    "    x, phi = convection_diffusion_steady(L, N, phi_A, phi_B, rho, gamma, u_conv)\n",
    "    x_ana, phi_ana = phi_analytique(L, 100, phi_A, phi_B, rho, gamma, u_conv)\n",
    "\n",
    "    # Nombre de Peclet\n",
    "    Pe = (rho*u_conv*dx)/(gamma)\n",
    "\n",
    "    # Affichage des solutions numérique et analytique\n",
    "    plt.figure()\n",
    "    \n",
    "    plt.plot(x,phi,'-s',label=r'$\\phi$ Numérique')\n",
    "    plt.plot(x_ana,phi_ana,linewidth=2, label=r'$\\phi$ Analytique')\n",
    "\n",
    "    plt.title(r\"Distribution de $\\phi$ pour $Pe=\\frac{\\rho u \\Delta x}{\\Gamma}=$\"+str(round(Pe,2)))\n",
    "    plt.xlabel(r\"$x$\")\n",
    "    plt.ylabel(r\"$\\phi$\")\n",
    "    \n",
    "    plt.legend()\n",
    "    plt.grid()\n",
    "    plt.show()\n",
    "\n",
    "# Définition des widgets (sliders)\n",
    "dx = widgets.FloatSlider(value = 0.2,\n",
    "                          min = 0.01, \n",
    "                          max = 0.5,\n",
    "                          step = 0.01,\n",
    "                          description = \"Pas d'espace\",\n",
    "                          continuous_update = False)\n",
    "\n",
    "u_conv = widgets.FloatSlider(value = 0.1,\n",
    "                          min = 0.1, \n",
    "                          max = 5,\n",
    "                          step = 0.1,\n",
    "                          description = \"u\",\n",
    "                          continuous_update = False)\n",
    "\n",
    "# Affichage de la solution\n",
    "interactive_plot = interact(calcul_plot_sol,\n",
    "                           dx = dx,\n",
    "                           u_conv = u_conv)"
   ]
  },
  {
   "cell_type": "markdown",
   "id": "7c7fd534",
   "metadata": {},
   "source": [
    "## Schéma d'interpolation upwind\n",
    "\n",
    "Utilisons des schémas d'interpolation upwind pour garantir la stabilité du schéma numérique"
   ]
  },
  {
   "cell_type": "code",
   "execution_count": 33,
   "id": "d5459efe",
   "metadata": {},
   "outputs": [],
   "source": [
    "def convection_diffusion_steady_upwind(L, N, phi_A, phi_B, rho, gamma, u):\n",
    "    \"\"\"\n",
    "    Resoud un EDP de convection diffusion stationnaire 1D\n",
    "    'L': longueur du domaine\n",
    "    'N': nb de cellules\n",
    "    'phi_A': condition limite gauche\n",
    "    'phi_B': condition limite droite\n",
    "    'rho': masse volumique\n",
    "    'gamma': coefficient de diffusion\n",
    "    'u': vitessee de convection\n",
    "    \"\"\"\n",
    "    # Maillage\n",
    "    dx = L/float(N)                     # Pas d'espace\n",
    "    x = np.linspace(dx/2, L-dx/2, N)    # Abscisses des centres des cellules\n",
    "\n",
    "    # Initialisation\n",
    "    phi = np.zeros(N)\n",
    "\n",
    "    # Remplissage de la matrice A du système linéaire et du second membre B\n",
    "    # A Phi = B\n",
    "    \n",
    "    a = np.zeros((N,N))\n",
    "    b = np.zeros(N)\n",
    "\n",
    "    # Condition aux limites à gauche : x=0-> phi(0) = phi_A\n",
    "    a[0,0] = 3*gamma/dx + rho*u\n",
    "    a[0,1] = - (gamma/dx)\n",
    "    b[0] = (2*gamma/dx + rho*u)*phi_A\n",
    "\n",
    "    for i in range(1, N-1):\n",
    "        a[i,i-1] = - (gamma/dx + rho*u)\n",
    "        a[i,i] = (2*gamma/dx + rho*u)\n",
    "        a[i,i+1] = - (gamma/dx)\n",
    "        b[i] = 0\n",
    "\n",
    "    # Condition aux limites à droite : x=L-> phi(L) = phi_B\n",
    "    # a[N-1,N-2] = - (gamma/dx + rho*u) \n",
    "    # a[N-1,N-1] = 3*gamma/dx\n",
    "    a[N-1,N-2] = - (gamma/dx) \n",
    "    a[N-1,N-1] = 3*gamma/dx  + rho*u\n",
    "    b[N-1] = (2*gamma/dx - rho*u)*phi_B \n",
    "\n",
    "    phi = np.linalg.solve(a,b)\n",
    "    \n",
    "    return x, phi"
   ]
  },
  {
   "cell_type": "code",
   "execution_count": 34,
   "id": "1148baa1",
   "metadata": {},
   "outputs": [],
   "source": [
    "# Calcul de la solution numérique\n",
    "x_upwind, phi_upwind = convection_diffusion_steady_upwind(L, N, phi_A, phi_B, rho, gamma, u)\n",
    "x, phi = convection_diffusion_steady(L, N, phi_A, phi_B, rho, gamma, u)"
   ]
  },
  {
   "cell_type": "code",
   "execution_count": 35,
   "id": "2a8a8eb1",
   "metadata": {},
   "outputs": [
    {
     "data": {
      "application/vnd.jupyter.widget-view+json": {
       "model_id": "3c557027afe44ecfa43e4761e12ed3a2",
       "version_major": 2,
       "version_minor": 0
      },
      "text/plain": [
       "interactive(children=(FloatSlider(value=0.2, continuous_update=False, description=\"Pas d'espace dx\", max=0.5, …"
      ]
     },
     "metadata": {},
     "output_type": "display_data"
    }
   ],
   "source": [
    "# Importation du module des widgets\n",
    "from ipywidgets import *\n",
    "\n",
    "def calcul_plot_sol(dx, u_conv):\n",
    "    # Calcul du nombre de cellules N\n",
    "    # correspondant au pas d'espace dx\n",
    "    N = int(L/dx)\n",
    "\n",
    "    # Calcul de la solution numérique et analytique en fonction des paramètres donnés\n",
    "    x, phi = convection_diffusion_steady(L, N, phi_A, phi_B, rho, gamma, u_conv)\n",
    "    x_upwind, phi_upwind = convection_diffusion_steady_upwind(L, N, phi_A, phi_B, rho, gamma, u_conv)\n",
    "    x_ana, phi_ana = phi_analytique(L, 100, phi_A, phi_B, rho, gamma, u_conv)\n",
    "\n",
    "    # Nombre de Peclet\n",
    "    Pe = (rho*u_conv*dx)/(gamma)\n",
    "\n",
    "    # Affichage des solutions numérique et analytique\n",
    "    plt.figure()\n",
    "    \n",
    "    plt.plot(x,phi,'-s',label=r'$\\phi$ Numérique')\n",
    "    plt.plot(x_upwind,phi_upwind,'-o',label=r'$\\phi$ Numérique Upwind')\n",
    "    plt.plot(x_ana,phi_ana,linewidth=2, label=r'$\\phi$ Analytique')\n",
    "\n",
    "    plt.title(r\"Distribution de $\\phi$ pour $Pe=\\frac{\\rho u \\Delta x}{\\Gamma}=$\"+str(round(Pe,2)))\n",
    "    plt.xlabel(r\"$x$\")\n",
    "    plt.ylabel(r\"$\\phi$\")\n",
    "\n",
    "    plt.legend()\n",
    "    plt.grid()\n",
    "\n",
    "    plt.show()\n",
    "\n",
    "# Définition des widgets (sliders)\n",
    "dx = widgets.FloatSlider(value = 0.2,\n",
    "                          min = 0.01, \n",
    "                          max = 0.5,\n",
    "                          step = 0.01,\n",
    "                          description = \"Pas d'espace dx\",\n",
    "                          continuous_update = False)\n",
    "\n",
    "u_conv = widgets.FloatSlider(value = 0.1,\n",
    "                          min = 0.1, \n",
    "                          max = 5,\n",
    "                          step = 0.1,\n",
    "                          description = \"u\",\n",
    "                          continuous_update = False)\n",
    "\n",
    "# Affichage de la solution\n",
    "interactive_plot = interact(calcul_plot_sol,\n",
    "                           dx = dx,\n",
    "                           u_conv = u_conv)"
   ]
  },
  {
   "cell_type": "code",
   "execution_count": null,
   "id": "fe6b67b1",
   "metadata": {},
   "outputs": [],
   "source": []
  }
 ],
 "metadata": {
  "kernelspec": {
   "display_name": "Python 3",
   "language": "python",
   "name": "python3"
  },
  "language_info": {
   "codemirror_mode": {
    "name": "ipython",
    "version": 3
   },
   "file_extension": ".py",
   "mimetype": "text/x-python",
   "name": "python",
   "nbconvert_exporter": "python",
   "pygments_lexer": "ipython3",
   "version": "3.13.3"
  }
 },
 "nbformat": 4,
 "nbformat_minor": 5
}
