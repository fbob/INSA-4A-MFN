{
  "cells": [
    {
      "cell_type": "markdown",
      "metadata": {},
      "source": [
        "# La methode des volumes finis pour des problèmes de diffusion\n"
      ]
    },
    {
      "cell_type": "markdown",
      "metadata": {},
      "source": [
        "## Le problème stationnaire de diffusion 1D"
      ]
    },
    {
      "cell_type": "markdown",
      "metadata": {},
      "source": [
        "### Description du problème\n",
        "\n",
        "On considère ici le problème stationnaire de diffusion de la quantité $\\phi$ en 1D sur le domaine [0,L=0.5], régit par l'équation aux dérivées partielles suivante:\n",
        "\n",
        "\\begin{equation}\n",
        "\\nabla.(\\nabla\\phi)=\\frac{\\partial}{\\partial x} (\\frac{\\partial \\phi}{\\partial x}) = 0\n",
        "\\end{equation}\n",
        "\n",
        "avec les conditions aux limites suivantes :\n",
        "\n",
        "- $\\phi(0) = \\phi_A = 100 °C$\n",
        "- $\\phi(L) = \\phi_B = 500 °C$"
      ]
    },
    {
      "cell_type": "markdown",
      "metadata": {},
      "source": [
        "### Forme intégrale et discrétisation pour un volume de contrôle\n",
        "\n",
        "Écrivons la forme intégrale de cette EDP pour la $i$ème cellule d'un maillage supposé à pas constant et **constitué de N=5 cellules.**\n",
        "\n",
        "Pour un volume de contrôle $V_{i}$, la formulation intégrale s'écrit :\n",
        "\n",
        "$$\\int_{V_{i}}\\nabla.\\left(\\nabla\\phi\\right)dV=0$$\n",
        "\n",
        "\n",
        "Ce qui peut aussi s'écrire pour le pb 1D, avec $V=\\Delta x\\times A$ et $dV=A\\times dx$ :\n",
        "\n",
        "$$\\int_{V_{i}}\\frac{\\partial}{\\partial x}\\left(\\frac{\\partial\\phi}{\\partial x}\\right)dV=\\int_{i-\\frac{1}{2}}^{i+\\frac{1}{2}}\\frac{\\partial}{\\partial x}\\left(\\frac{\\partial\\phi}{\\partial x}\\right)Adx=A\\left[\\frac{\\partial\\phi}{\\partial x}\\right]_{i-\\frac{1}{2}}^{i+\\frac{1}{2}}=A\\left(\\left.\\frac{\\partial\\phi}{\\partial x}\\right|_{i+\\frac{1}{2}}-\\left.\\frac{\\partial\\phi}{\\partial x}\\right|_{i-\\frac{1}{2}}\\right)$$\n",
        "\n",
        "Les valeurs des gradients de $\\phi$ aux faces du volumes de contrôle seront évalués en utilisant un schéma centré : \n",
        "\n",
        "$$\\left.\\frac{\\partial\\phi}{\\partial x}\\right\\vert _{i+\\frac{1}{2}}=\\frac{\\phi_{i+1}-\\phi_{i}}{\\Delta x}$$\n",
        "\n",
        "$$\\left.\\frac{\\partial\\phi}{\\partial x}\\right\\vert _{i-\\frac{1}{2}}=\\frac{\\phi_{i}-\\phi_{i-1}}{\\Delta x}$$\n",
        "\n",
        "Il vient ainsi : \n",
        "\n",
        "$$A\\left(\\frac{\\phi_{i+1}-\\phi_{i}}{\\Delta x}-\\frac{\\phi_{i}-\\phi_{i-1}}{\\Delta x}\\right)=0$$\n",
        "\n",
        "Soit finalement :\n",
        "\n",
        "$$\\frac{\\phi_{i+1}-2\\phi_{i}+\\phi_{i-1}}{\\Delta x}=0$$\n",
        "\n",
        "$$\\frac{2}{\\Delta x}\\phi_{i}=\\frac{1}{\\Delta x}\\phi_{i-1}+\\frac{1}{\\Delta x}\\phi_{i+1}$$\n",
        "\n",
        "Cette relation n'est valide que pour les cellules intérieures i.e non adjacentes aux frontières du domaine de calcul. \n",
        "\n",
        "En effet pour $i=0$ et $i=4$ on ferait intervenir des cellules du maillage qui n'existent pas ($i=-1$ et $i=5$).\n",
        "\n",
        "Il faut faire un traitement spécifique pour les conditions aux limites"
      ]
    },
    {
      "cell_type": "markdown",
      "metadata": {},
      "source": [
        "### Traitement spécifique aux limites\n",
        "\n",
        "#### Pour $i=0$ :\n",
        "\n",
        "$$\\int_{V_{i}}\\frac{\\partial}{\\partial x}\\left(\\frac{\\partial\\phi}{\\partial x}\\right)dV=\\int_{0-\\frac{1}{2}}^{0+\\frac{1}{2}}\\frac{\\partial}{\\partial x}\\left(\\frac{\\partial\\phi}{\\partial x}\\right)Adx=A\\left[\\frac{\\partial\\phi}{\\partial x}\\right]_{0-\\frac{1}{2}}^{0+\\frac{1}{2}}=A\\left(\\left.\\frac{\\partial\\phi}{\\partial x}\\right|_{0+\\frac{1}{2}}-\\left.\\frac{\\partial\\phi}{\\partial x}\\right|_{0-\\frac{1}{2}}\\right)$$\n",
        "\n",
        "Les valeurs des gradients de $\\phi$ aux faces du volumes de contrôle seront évalués en utilisant : \n",
        "\n",
        "$$\\left.\\frac{\\partial\\phi}{\\partial x}\\right\\vert _{0+\\frac{1}{2}}=\\frac{\\phi_{1}-\\phi_{0}}{\\Delta x}$$\n",
        "\n",
        "$$\\left.\\frac{\\partial\\phi}{\\partial x}\\right\\vert _{0-\\frac{1}{2}}=\\frac{\\phi_{0}-\\phi_{-\\frac{1}{2}}}{\\frac{\\Delta x}{2}}$$\n",
        "\n",
        "Il vient donc :\n",
        "\n",
        "$$A\\left(\\frac{\\phi_{1}-\\phi_{0}}{\\Delta x}-\\frac{\\phi_{0}-\\phi_{-\\frac{1}{2}}}{\\frac{\\Delta x}{2}}\\right)=0$$\n",
        "\n",
        "Soit finalement avec $\\phi_{-\\frac{1}{2}}=\\phi_{A}$ :\n",
        "\n",
        "$$\\left(\\frac{1}{\\Delta x}+\\frac{2}{\\Delta x}\\right)\\phi_{0}=\\frac{2}{\\Delta x}\\phi_{A}+\\frac{1}{\\Delta x}\\phi_{1}$$\n",
        "\n",
        "$$\\frac{3}{\\Delta x}\\phi_{0}=\\frac{2}{\\Delta x}\\phi_{A}+\\frac{1}{\\Delta x}\\phi_{1}$$\n",
        "\n",
        "#### Pour $i=4$ :\n",
        "\n",
        "$$\\int_{V_{i}}\\frac{\\partial}{\\partial x}\\left(\\frac{\\partial\\phi}{\\partial x}\\right)dV=\\int_{4-\\frac{1}{2}}^{4+\\frac{1}{2}}\\frac{\\partial}{\\partial x}\\left(\\frac{\\partial\\phi}{\\partial x}\\right)Adx=A\\left[\\frac{\\partial\\phi}{\\partial x}\\right]_{4-\\frac{1}{2}}^{4+\\frac{1}{2}}=A\\left(\\left.\\frac{\\partial\\phi}{\\partial x}\\right|_{4+\\frac{1}{2}}-\\left.\\frac{\\partial\\phi}{\\partial x}\\right|_{4-\\frac{1}{2}}\\right)$$\n",
        "\n",
        "Les valeurs des gradients de $\\phi$ aux faces du volumes de contrôle seront évalués en utilisant : \n",
        "\n",
        "$$\\left.\\frac{\\partial\\phi}{\\partial x}\\right\\vert _{4+\\frac{1}{2}}=\\frac{\\phi_{4+\\frac{1}{2}}-\\phi_{4}}{\\frac{\\Delta x}{2}}$$\n",
        "\n",
        "$$\\left.\\frac{\\partial\\phi}{\\partial x}\\right\\vert _{4-\\frac{1}{2}}=\\frac{\\phi_{4}-\\phi_{3}}{\\Delta x}$$\n",
        "\n",
        "Il vient donc :\n",
        "\n",
        "$$A\\left(\\frac{\\phi_{4+\\frac{1}{2}}-\\phi_{4}}{\\frac{\\Delta x}{2}}-\\frac{\\phi_{4}-\\phi_{3}}{\\Delta x}\\right)=0$$\n",
        "\n",
        "Soit finalement avec $\\phi_{4+\\frac{1}{2}}=\\phi_{B}$ :\n",
        "\n",
        "$$\\left(\\frac{1}{\\Delta x}+\\frac{2}{\\Delta x}\\right)\\phi_{4}=\\frac{2}{\\Delta x}\\phi_{B}+\\frac{1}{\\Delta x}\\phi_{3}$$\n",
        "\n",
        "$$\\frac{3}{\\Delta x}\\phi_{4}=\\frac{2}{\\Delta x}\\phi_{B}+\\frac{1}{\\Delta x}\\phi_{3}$$\n"
      ]
    },
    {
      "cell_type": "markdown",
      "metadata": {},
      "source": [
        "### Système d'équations algébriques\n",
        "\n",
        "La discrétisation de l'équation a été précédemment réalisée pour chacun des 5 nœuds du maillage. \n",
        "\n",
        "Le système d'équations algébriques obtenu peut alors s'écrire :\n",
        "\n",
        "$$\n",
        "\\left[\\begin{array}{ccccc}\n",
        "\\frac{3}{\\Delta x} & -\\frac{1}{\\Delta x} & 0 & 0 & 0\\\\\n",
        "-\\frac{1}{\\Delta x} & \\frac{2}{\\Delta x} & -\\frac{1}{\\Delta x} & 0 & 0\\\\\n",
        "0 & -\\frac{1}{\\Delta x} & \\frac{2}{\\Delta x} & -\\frac{1}{\\Delta x} & 0\\\\\n",
        "0 & 0 & -\\frac{1}{\\Delta x} & \\frac{2}{\\Delta x} & -\\frac{1}{\\Delta x}\\\\\n",
        "0 & 0 & 0 & -\\frac{1}{\\Delta x} & \\frac{3}{\\Delta x}\n",
        "\\end{array}\\right]\\left[\\begin{array}{c}\n",
        "\\phi_{0}\\\\\n",
        "\\phi_{1}\\\\\n",
        "\\phi_{2}\\\\\n",
        "\\phi_{3}\\\\\n",
        "\\phi_{4}\n",
        "\\end{array}\\right]=\\left[\\begin{array}{c}\n",
        "\\frac{2}{\\Delta x}\\phi_{A}\\\\\n",
        "0\\\\\n",
        "0\\\\\n",
        "0\\\\\n",
        "\\frac{2}{\\Delta x}\\phi_{B}\n",
        "\\end{array}\\right]\n",
        "$$"
      ]
    },
    {
      "cell_type": "markdown",
      "metadata": {},
      "source": [
        "### Résolution numérique"
      ]
    },
    {
      "cell_type": "code",
      "execution_count": null,
      "metadata": {
        "tags": []
      },
      "outputs": [],
      "source": [
        "%matplotlib ipympl\n",
        "import matplotlib.pyplot as plt\n",
        "import numpy as np"
      ]
    },
    {
      "cell_type": "code",
      "execution_count": null,
      "metadata": {
        "tags": []
      },
      "outputs": [],
      "source": [
        "# Creation du maillage\n",
        "N = 5 # Nb de cellules\n",
        "L = 0.5 # Longueur du domaine\n",
        "dx = L / (N) # Pas d'espace\n",
        "x = np.linspace(dx/2,L-dx/2,N) # Maillage 1D (abscisses centres des cellules)\n",
        "\n",
        "# Creation des tableaux du systeme d'eq. algébriques\n",
        "# a phi = b\n",
        "# a = matrice schéma numérique (N,N)\n",
        "# phi = vecteur inconnues (N) \n",
        "# b = vecteur 2nd membre(N)\n",
        "\n",
        "a = np.zeros((N,N)) # Matrice du schéma numérique\n",
        "b = np.zeros(N) # Vecteur second membre\n",
        "\n",
        "# Conditions aux limites (de type Dirichlet)\n",
        "phiA = 100 # A gauche en x=0 \n",
        "phiB = 500 # A droite en x=L\n",
        "\n",
        "#\n",
        "# Remplissage de la matrice du système linéaire\n",
        "# Attention la numérotation des indices commence à 0\n",
        "\n",
        "# Noeud frontière gauche (i=0)\n",
        "a[0,0] = 3/dx\n",
        "a[0,1] = -1/dx\n",
        "b[0] = 2*phiA/dx\n",
        "\n",
        "# Noeuds interieurs (i=1,...,N-2)\n",
        "for i in range(1, N-1):\n",
        "    a[i,i-1] = -1/dx\n",
        "    a[i,i] = 2/dx\n",
        "    a[i,i+1] = -1/dx\n",
        "    b[i] = 0\n",
        "\n",
        "# Noeud frontière droite (i=N-1)\n",
        "a[N-1,N-2] = -1/dx\n",
        "a[N-1,N-1] = 3/dx\n",
        "b[N-1] = 2*phiB/dx"
      ]
    },
    {
      "cell_type": "code",
      "execution_count": null,
      "metadata": {},
      "outputs": [],
      "source": [
        "# Calcul de la solution\n",
        "# Methode directe proposée ici car matrice de petite taille (5,5)\n",
        "phi = np.linalg.solve(a,b)"
      ]
    },
    {
      "cell_type": "code",
      "execution_count": null,
      "metadata": {},
      "outputs": [],
      "source": [
        "# Affichage de la solution\n",
        "plt.figure()\n",
        "plt.grid()\n",
        "plt.title(r\"Evolution de $\\phi$\")\n",
        "plt.plot(x,phi,'-o',label=\"Numérique\")\n",
        "plt.xlabel(r'$x(m)$')\n",
        "plt.ylabel(r'$\\phi(°C)$')\n",
        "plt.legend()\n",
        "# plt.plot(0,phiA,'o') # condition aux limites à gauche\n",
        "# plt.plot(L,phiB,'o') # condition aux limites à droite\n",
        "plt.show()"
      ]
    },
    {
      "cell_type": "code",
      "execution_count": null,
      "metadata": {
        "tags": []
      },
      "outputs": [],
      "source": [
        "phi"
      ]
    },
    {
      "cell_type": "markdown",
      "metadata": {},
      "source": [
        "### Influence du maillage\n"
      ]
    },
    {
      "cell_type": "markdown",
      "metadata": {},
      "source": [
        "En l'abscence de solution analytique, de données tierces (experimentales ou numériques), il est important de tester l'influence de la discrétisation spatiale sur les résultats et de montrer une convergence en maillage.\n",
        "\n",
        "Testons à cette fin différents niveaux de discrétisation :\n",
        "\n",
        "- $N=5$\n",
        "- $N = 10$\n",
        "- $N = 100$\n",
        "\n",
        "Pour cela il est plus facile de créer une fonction qui va, entre autre, prendre comme argument le nombre de cellules $N$ du maillage.\n"
      ]
    },
    {
      "cell_type": "code",
      "execution_count": null,
      "metadata": {
        "tags": []
      },
      "outputs": [],
      "source": [
        "def diffusion(L,N,phiA,phiB):\n",
        "    # Creation du maillage\n",
        "    dx = L / (N)               # Pas d'espace\n",
        "    x = np.linspace(dx/2,L-dx/2,N) # Maillage 1D (abscisse centre des cellules)\n",
        "\n",
        "    a = np.zeros((N,N))       # Matrice du schéma numérique\n",
        "    b = np.zeros(N)            # Vecteur second membre\n",
        "\n",
        "    #\n",
        "    # Remplissage de la matrice du système linéaire\n",
        "    #\n",
        "\n",
        "    # Noeud 0 ordre 1 \n",
        "    a[0,0] = 3/dx\n",
        "    a[0,1] = -1/dx\n",
        "    b[0] = 2*phiA/dx\n",
        "\n",
        "    # Noeuds interieurs ordre 2\n",
        "    for i in range(1, N-1):\n",
        "        a[i,i-1] = -1/dx\n",
        "        a[i,i] = 2/dx\n",
        "        a[i,i+1] = -1/dx\n",
        "        b[i] = 0\n",
        "\n",
        "    # Noeud 4 ordre 1\n",
        "    a[N-1,N-2] = -1/dx\n",
        "    a[N-1,N-1] = 3/dx\n",
        "    b[N-1] = 2*phiB/dx\n",
        "\n",
        "    # Calcul de la solution\n",
        "    phi = np.linalg.solve(a,b)\n",
        "\n",
        "    # Renvoi de la solution\n",
        "    return x, phi"
      ]
    },
    {
      "cell_type": "code",
      "execution_count": null,
      "metadata": {
        "tags": []
      },
      "outputs": [],
      "source": [
        "# Résolutions des différents maillages\n",
        "N1 = 5\n",
        "N2 = 10\n",
        "N3 = 50\n",
        "\n",
        "# Paramètres physiques\n",
        "L= 0.5 \n",
        "phiA = 100 # Température de paroi à gauche en x=0\n",
        "phiB = 500 # Température de paroi à droite en x=L\n",
        "\n",
        "# Solutions obtenues pour les différents maillages\n",
        "x1, phi1 = diffusion(L,N1,phiA,phiB)\n",
        "x2, phi2 = diffusion(L,N2,phiA,phiB)\n",
        "x3, phi3 = diffusion(L,N3,phiA,phiB)"
      ]
    },
    {
      "cell_type": "code",
      "execution_count": null,
      "metadata": {
        "tags": []
      },
      "outputs": [],
      "source": [
        "# Affichage de la solution\n",
        "plt.figure()\n",
        "plt.grid()\n",
        "plt.title(r\"Evolution de $\\phi$\")\n",
        "plt.plot(x1,phi1,'-o',label=\"Num. Maillage N=\"+str(N1))\n",
        "plt.plot(x2,phi2,'-s',label=\"Num. Maillage N=\"+str(N2))\n",
        "plt.plot(x3,phi3,'-x',label=\"Num. Maillage N=\"+str(N3))\n",
        "plt.plot(0,phiA,'o') # condition aux limites à gauche\n",
        "plt.plot(L,phiB,'o') # condition aux limites à droite\n",
        "plt.xlabel(r'$x(m)$')\n",
        "plt.ylabel(r'$\\phi(°C)$')\n",
        "plt.legend()\n",
        "plt.show()"
      ]
    },
    {
      "cell_type": "markdown",
      "metadata": {},
      "source": [
        "**Le comportement semble donc bien linéaire... Vérifions ça avec la solution analytique du pb continu.**"
      ]
    },
    {
      "cell_type": "markdown",
      "metadata": {},
      "source": [
        "### Comparaison avec la solution analytique du pb\n",
        "\n",
        "La solution analytique du problème de diffusion pure s'obtient par double intégration de l'équation du second ordre suivante :\n",
        "\n",
        "\\begin{equation}\n",
        "\\frac{\\partial}{\\partial x} (\\frac{\\partial \\phi}{\\partial x}) = \\frac{\\partial^2}{\\partial x^2} (\\phi) = 0\n",
        "\\end{equation}\n",
        "\n",
        "Les constantes d'intégration étant obtenues par les conditions aux limites :\n",
        "\n",
        "- $\\phi(0) = \\phi_A = 100$\n",
        "- $\\phi(L) = \\phi_B = 500$\n",
        "\n",
        "Le profil de $\\phi(x)$ est donc de la forme :\n",
        "\n",
        "$$\\phi(x)=Ax+B$$\n",
        "\n",
        "avec :\n",
        "\n",
        "- $\\phi(0) = A\\times 0 + B = \\phi_A$ soit $B=\\phi_A$\n",
        "- $\\phi(L) = A\\times L + B = \\phi_B$ soit $A=(\\phi_B-\\phi_A)/L$\n",
        "\n",
        "Il vient ainsi :\n",
        "\n",
        "$$\\phi(x)=\\frac{\\phi_B-\\phi_A}{L}x + \\phi_A$$\n"
      ]
    },
    {
      "cell_type": "code",
      "execution_count": null,
      "metadata": {},
      "outputs": [],
      "source": [
        "# Solution analytique\n",
        "x_ana = np.linspace(0,L,N1)\n",
        "phi_ana = (phiB - phiA) * x_ana / L + phiA"
      ]
    },
    {
      "cell_type": "code",
      "execution_count": null,
      "metadata": {},
      "outputs": [],
      "source": [
        "# Comparaison solution analytique et solution numérique\n",
        "plt.figure()\n",
        "plt.grid()\n",
        "plt.title(r\"Evolution de $\\phi$\")\n",
        "plt.plot(x1,phi1,'-o',label=\"Numérique - Maillage N=\"+str(N1))\n",
        "plt.plot(x_ana,phi_ana,'-',label=\"Analytique\")\n",
        "plt.xlabel(r'$x(m)$')\n",
        "plt.ylabel(r'$\\phi(°C)$')\n",
        "plt.legend()\n",
        "plt.show()"
      ]
    },
    {
      "cell_type": "markdown",
      "metadata": {},
      "source": [
        "### Résolution par la méthode de Gauss-Seidel\n",
        "\n",
        "La résolution numérique précedente repose sur une méthode directe qui, pour des maillages de faible dimension, reste efficace pour résouddre le système d'eq. algébriques.\n",
        "Pour des maillages présentant un nombre de cellules plus importants les méthodes directes sont moins bien adaptées et les methodes itératives sont conseillées.\n",
        "\n",
        "Généralisons la procédure avec un système $M\\Phi=B$ de N eq. à N inconnues :\n",
        "\n",
        "$$\n",
        "\\left[\\begin{array}{cccc}\n",
        "m_{11} & m_{12} & \\cdots & m_{1N}\\\\\n",
        "m_{21} & m_{22} & \\cdots & m_{2N}\\\\\n",
        "\\vdots &  & \\ddots & \\vdots\\\\\n",
        "m_{N1} & m_{N2} & \\cdots & m_{NN}\n",
        "\\end{array}\\right]\\left[\\begin{array}{c}\n",
        "\\phi_{1}\\\\\n",
        "{\\color{blue}\\vdots}\\\\\n",
        "{\\color{blue}\\vdots}\\\\\n",
        "\\phi_{N}\n",
        "\\end{array}\\right]=\\left[\\begin{array}{c}\n",
        "b_{1}\\\\\n",
        "{\\color{blue}\\vdots}\\\\\n",
        "{\\color{blue}\\vdots}\\\\\n",
        "b_{N}\n",
        "\\end{array}\\right]\n",
        "$$\n",
        "\n",
        "La procédure itérative consiste à ré-arranger le système d'eq. sous la forme :\n",
        "\n",
        "$$m_{ii}\\phi_{i}=b_{i}-\\sum_{j=1,j\\ne i}^{N}m_{ij}\\phi_{j}$$\n",
        "\n",
        "se donner ensuite une estimation de la solution $\\phi^{(0)}$ à l'itération $k=0$ puis itérer en utlisant les dernières valeurs calculées dès que cela est possible.\n",
        "\n",
        "C'est la methode de Gauss-Seidel qui vous est rappelée ci-dessous :\n",
        "\n",
        "$$\\phi_{i}^{{\\color{cyan}\\left(k+1\\right)}}=\\frac{1}{m_{ii}}\\left(b_{i}-\\sum_{j=1}^{{\\color{red}i-1}}m_{ij}\\phi_{j}^{{\\color{blue}{\\color{cyan}\\left(k+1\\right)}}}-\\sum_{j={\\color{red}i+1}}^{N}m_{ij}\\phi_{j}^{{\\color{red}(k)}}\\right),\\quad i=1,\\dots,N\\quad et\\quad k\\ge 1$$\n"
      ]
    },
    {
      "cell_type": "code",
      "execution_count": null,
      "metadata": {},
      "outputs": [],
      "source": [
        "def gauss_seidel(a,b,eps):\n",
        "    \"\"\"\n",
        "    Resoud un systeme d'eq. lineaire de la forme AX = B avec la methode iterative de Gauss-Seidel\n",
        "    'A': Matrice (n, n)\n",
        "    'B': Second membre (n, 1)\n",
        "    'eps': critère d'arret à atteindre\n",
        "    \"\"\"\n",
        "    # Dimension de la matrice\n",
        "    nLig, nCol = np.shape(a)\n",
        "    n = nLig  # Dimension de la matrice a(n,n)\n",
        "    \n",
        "    # Initialisation\n",
        "    x0 = np.zeros(n) * 5  \n",
        "    iter = 0\n",
        "    x=x0 # Initialisation de la solution à l'iteration 0 : x^0\n",
        "\n",
        "    # Residu obtenu à l'itération k=0\n",
        "    residu = np.linalg.norm(np.dot(a,x)-b)\n",
        "\n",
        "    # Liste qui contient les résidus au cours des itérations \n",
        "    # Elle ne contient au début que le residu initial\n",
        "    residus = [residu]\n",
        "\n",
        "    # Boucle du processus iteratif\n",
        "    while (residus[iter] > eps):\n",
        "        for i in range(n):\n",
        "            somme = 0\n",
        "            for j in range(n):\n",
        "                if j != i:\n",
        "                    # Calcul de la somme des termes sauf celui de la diagonale\n",
        "                    somme += a[i, j] * x[j] \n",
        "            x[i] = (b[i] - somme) / a[i, i]\n",
        "            \n",
        "        # Actualisation residu\n",
        "        residus.append(np.linalg.norm(np.dot(a,x)-b))\n",
        "        \n",
        "        # On incrémente l'iteration\n",
        "        iter += 1\n",
        "        \n",
        "    return [x,iter,residus] "
      ]
    },
    {
      "cell_type": "code",
      "execution_count": null,
      "metadata": {
        "tags": []
      },
      "outputs": [],
      "source": [
        "def diffusion_gs(L,N,phiA,phiB,eps):\n",
        "    # Creation du maillage\n",
        "    dx = L / (N)               # Pas d'espace\n",
        "    x = np.linspace(dx/2,L-dx/2,N) # Maillage 1D (abscisse centre des cellules)\n",
        "\n",
        "    a = np.zeros((N,N))       # Matrice du schéma numérique\n",
        "    b = np.zeros(N)            # Vecteur second membre\n",
        "\n",
        "    #\n",
        "    # Remplissage de la matrice du système linéaire\n",
        "    #\n",
        "\n",
        "    # Noeud 0 ordre 1 \n",
        "    a[0,0] = 3/dx\n",
        "    a[0,1] = -1/dx\n",
        "    b[0] = 2*phiA/dx\n",
        "\n",
        "    # Noeuds interieurs ordre 2\n",
        "    for i in range(1, N-1):\n",
        "        a[i,i-1] = -1/dx\n",
        "        a[i,i] = 2/dx\n",
        "        a[i,i+1] = -1/dx\n",
        "        b[i] = 0\n",
        "\n",
        "    # Noeud 4 ordre 1\n",
        "    a[N-1,N-2] = -1/dx\n",
        "    a[N-1,N-1] = 3/dx\n",
        "    b[N-1] = 2*phiB/dx\n",
        "\n",
        "    # Calcul de la solution\n",
        "    phi,iter,res = gauss_seidel(a, b, eps)\n",
        "    print(\"La solution est obtenue avec un résidu de \",res[-1],\" en \",iter,\" iterations\")\n",
        "    \n",
        "    # Renvoi de la solution\n",
        "    return x, phi,res"
      ]
    },
    {
      "cell_type": "code",
      "execution_count": null,
      "metadata": {
        "tags": []
      },
      "outputs": [],
      "source": [
        "# Maillage\n",
        "N = 5                # Nb de cellules\n",
        "L = 0.5               # Longueur du domaine\n",
        "\n",
        "# Paramètres physiques\n",
        "phiA = 100        # Température de paroi\n",
        "phiB = 500        # Température de paroi\n",
        "\n",
        "# Calcul de la solution par methode directe\n",
        "x, phi = diffusion(L,N,phiA,phiB)\n",
        "\n",
        "# Calcul de la solution par la méthode de Gauss-Seidel\n",
        "eps = 1e-2\n",
        "x_gs, phi_gs, res = diffusion_gs(L,N,phiA,phiB,eps)\n",
        "\n",
        "# Solution analytique\n",
        "x_ana = np.linspace(0,L,N)\n",
        "phi_ana = (phiB-phiA)*x_ana/L+phiA"
      ]
    },
    {
      "cell_type": "code",
      "execution_count": null,
      "metadata": {},
      "outputs": [],
      "source": [
        "# Affichage des résidus au cours des itérations\n",
        "plt.figure()\n",
        "plt.grid()\n",
        "plt.title(r\"Evolution des résidus\")\n",
        "plt.plot(res/res[0],'-o')\n",
        "plt.xlabel(r'Itérations')\n",
        "plt.ylabel(r'Résidus')\n",
        "plt.show()\n"
      ]
    },
    {
      "cell_type": "code",
      "execution_count": null,
      "metadata": {
        "tags": []
      },
      "outputs": [],
      "source": [
        "# Affichage de la solution\n",
        "plt.figure()\n",
        "plt.grid()\n",
        "plt.title(r\"Evolution de $\\phi$\")\n",
        "plt.plot(x_gs,phi_gs,'-*',ms=15,label=\"Num. méthode itérative Gauss Seidel\")\n",
        "plt.plot(x,phi,'-o',label=\"Num. méthode directe\")\n",
        "plt.plot(x_ana,phi_ana,'-',label=\"Théorique\")\n",
        "plt.xlabel(r'$x(m)$')\n",
        "plt.ylabel(r'$\\phi(°C)$')\n",
        "plt.legend()\n",
        "plt.show()"
      ]
    },
    {
      "cell_type": "code",
      "execution_count": null,
      "metadata": {
        "tags": []
      },
      "outputs": [],
      "source": [
        "phi"
      ]
    },
    {
      "cell_type": "code",
      "execution_count": null,
      "metadata": {
        "tags": []
      },
      "outputs": [],
      "source": [
        "phi_gs"
      ]
    }
  ],
  "metadata": {
    "kernelspec": {
      "display_name": "Python 3",
      "language": "python",
      "name": "python3"
    },
    "language_info": {
      "codemirror_mode": {
        "name": "ipython",
        "version": 3
      },
      "file_extension": ".py",
      "mimetype": "text/x-python",
      "name": "python",
      "nbconvert_exporter": "python",
      "pygments_lexer": "ipython3",
      "version": "3.13.3"
    },
    "active_editors": [
      {
        "name": "François Beaubert",
        "avatar_url": "https://avatars.githubusercontent.com/u/8211124?v=4",
        "timestamp": "2025-09-22T09:20:08.643Z"
      }
    ]
  },
  "nbformat": 4,
  "nbformat_minor": 4
}